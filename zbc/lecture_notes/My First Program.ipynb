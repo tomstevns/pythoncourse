{
 "cells": [
  {
   "cell_type": "markdown",
   "metadata": {
    "slideshow": {
     "slide_type": "slide"
    }
   },
   "source": [
    "# Welcome!\n",
    "\n",
    "![](https://i.pinimg.com/736x/93/8f/75/938f75ace142cfa0b22b4dbe5cc558a3--minion-classroom-classroom-ideas.jpg)"
   ]
  },
  {
   "cell_type": "markdown",
   "metadata": {
    "slideshow": {
     "slide_type": "slide"
    }
   },
   "source": [
    "# Hej ELIZA!\n",
    "\n",
    "Joseph Weizenbaum wrote the first chatbot, called _ELIZA_, from 1964 to 1966.\n",
    "![](https://c2.staticflickr.com/4/3044/2331085823_d6d4b97096.jpg)"
   ]
  },
  {
   "cell_type": "markdown",
   "metadata": {
    "slideshow": {
     "slide_type": "subslide"
    }
   },
   "source": [
    "  > ELIZA's creator, Weizenbaum regarded the program as a method to show the superficiality of communication between man and machine, but was surprised by the number of individuals who attributed human-like feelings to the computer program, including Weizenbaum’s secretary.\n",
    "  >\n",
    "  > https://en.wikipedia.org/wiki/ELIZA"
   ]
  },
  {
   "cell_type": "markdown",
   "metadata": {
    "slideshow": {
     "slide_type": "subslide"
    }
   },
   "source": [
    "Go and implement your own ELIZA from the hand-out.\n",
    "\n",
    "\n",
    "  * Navigate to https://github.com/datsoftlyngby/dat4sem2018fall-python\n",
    "  * Press the icon displayed on that front-page ![Binder](https://mybinder.org/badge.svg)"
   ]
  },
  {
   "cell_type": "markdown",
   "metadata": {
    "slideshow": {
     "slide_type": "slide"
    }
   },
   "source": [
    "# My First Program\n",
    "\n",
    "As you learn speaking by continiously repeating what others say, and as you learn writing by continiously rewriting characters, words and sentences that are presented to you, you can also learn programming by typing, executing and modifying other people's programs.\n",
    "\n",
    "This is what we will do now.\n",
    "\n",
    "Type in the program that is handed out on paper in the empty code field in `Notebook.ipynb`. Copy exactly what is written on the paper. Note, that the intendation in the beginning of lines are created by pressing the tabulator (tab) key. On your keyboard this key looks something like: ⇥.\n",
    "\n",
    "  * Open the `lecture_notes` by clicking on it, subsequently \n",
    "  * Create an new notebook by clicking `New`(top right) -> `Python 3`\n",
    "  * Select the first cell by clicking on it once\n",
    "  * Enter the program, which was distributed on paper\n",
    "  * Hit CTRL-Return or `▶ Run`\n",
    "\n",
    "After you are done typing in the program hit CTRL-Return or `▶ Run`.\n",
    "In the new code cell below write `talk_to_me()` and hit again CTRL-Return or `▶ Run`.\n",
    "\n",
    "Now you can chat with Eliza."
   ]
  },
  {
   "cell_type": "markdown",
   "metadata": {
    "slideshow": {
     "slide_type": "skip"
    }
   },
   "source": [
    "# The Hand-out\n",
    "\n",
    "Print the following program and distribute it in class.\n",
    "\n",
    "```python\n",
    "import re\n",
    "import random\n",
    "import eliza_language as lang\n",
    "\n",
    "\n",
    "def reflect(fragment):\n",
    "    tokens = fragment.lower().split()\n",
    "    for i, token in enumerate(tokens):\n",
    "        if token in lang.REFLECTIONS:\n",
    "            tokens[i] = lang.REFLECTIONS[token]\n",
    "    return ' '.join(tokens)\n",
    "\n",
    "\n",
    "def analyze(statement):\n",
    "    for pattern, responses in lang.PSYCHOBABBLE:\n",
    "        match = re.match(pattern, statement.rstrip(\".!\"))\n",
    "        if match:\n",
    "            response = random.choice(responses)\n",
    "            return response.format(*[reflect(g) for g in match.groups()])\n",
    "\n",
    "\n",
    "def talk_to_me():\n",
    "    print(\"Hello. How are you feeling today?\")\n",
    "\n",
    "    while True:\n",
    "        statement = input(\"> \")\n",
    "        print(analyze(statement))\n",
    "```"
   ]
  },
  {
   "cell_type": "code",
   "execution_count": 1,
   "metadata": {
    "slideshow": {
     "slide_type": "subslide"
    }
   },
   "outputs": [],
   "source": [
    "import re\n",
    "import random\n",
    "import eliza_language as lang\n",
    "\n",
    "\n",
    "def reflect(fragment):\n",
    "    tokens = fragment.lower().split()\n",
    "    for i, token in enumerate(tokens):\n",
    "        if token in lang.REFLECTIONS:\n",
    "            tokens[i] = lang.REFLECTIONS[token]\n",
    "    return ' '.join(tokens) \n",
    "\n",
    "\n",
    "def analyze(statement):\n",
    "    for pattern, responses in lang.PSYCHOBABBLE:\n",
    "        match = re.match(pattern, statement.rstrip(\".!\"))\n",
    "        if match:\n",
    "            response = random.choice(responses)\n",
    "            return response.format(*[reflect(g) for g in match.groups()])\n",
    "\n",
    "\n",
    "def talk_to_me():\n",
    "    print(\"Hello. How are you feeling today?\")\n",
    "\n",
    "    while True:\n",
    "        statement = input(\"> \")\n",
    "        print(analyze(statement))"
   ]
  },
  {
   "cell_type": "code",
   "execution_count": null,
   "metadata": {
    "slideshow": {
     "slide_type": "subslide"
    }
   },
   "outputs": [],
   "source": [
    "talk_to_me()"
   ]
  },
  {
   "cell_type": "markdown",
   "metadata": {
    "slideshow": {
     "slide_type": "subslide"
    }
   },
   "source": [
    "-------------------------\n",
    "\n",
    "# What is a computer program?\n",
    "\n",
    "The Oxford Dictionary of English says:\n",
    "\n",
    "  > A computer program is a collection of instructions that performs a specific task when executed by a computer. A computer requires programs to function.\n",
    "  > https://en.wikipedia.org/wiki/Computer_program\n",
    "\n",
    "\n"
   ]
  },
  {
   "cell_type": "markdown",
   "metadata": {
    "slideshow": {
     "slide_type": "fragment"
    }
   },
   "source": [
    "\n",
    "    \n",
    "According to the BBC:    \n",
    "    \n",
    "  > All modern computers function on the same general model of input, process and output.\n",
    "  > https://www.bbc.co.uk/education/guides/z46s4wx/revision/2\n",
    "  \n",
    "Here the processing step is what a program is doing."
   ]
  },
  {
   "cell_type": "markdown",
   "metadata": {
    "slideshow": {
     "slide_type": "subslide"
    }
   },
   "source": [
    "# What is a computer?\n",
    "\n",
    "\n",
    "The [Oxford Dictionary of English](https://en.oxforddictionaries.com/definition/computer) says:\n",
    "  > An electronic device for storing and processing data, typically in binary form, according to instructions given to it in a variable program."
   ]
  },
  {
   "cell_type": "markdown",
   "metadata": {
    "slideshow": {
     "slide_type": "fragment"
    }
   },
   "source": [
    "The [Internet Archive](https://archive.org/details/ComputerAndTheMindOfManP3TheUniversalMachine) says:\n",
    " > A computer is a universal machine in that it is capable of doing whatever man is capable of instructing it to do."
   ]
  },
  {
   "cell_type": "markdown",
   "metadata": {
    "slideshow": {
     "slide_type": "fragment"
    }
   },
   "source": [
    "[Interactive Python](http://interactivepython.org/runestone/static/StudentCSP/CSPTuring/whatIsComputer.html) says:\n",
    "  > A computer is a device that can perform actions on input (which is also called data). The actions are specified by a program, which is a sequence of instructions."
   ]
  },
  {
   "cell_type": "markdown",
   "metadata": {
    "slideshow": {
     "slide_type": "subslide"
    }
   },
   "source": [
    "# Data Input\n",
    "\n",
    "In Python you can get input from the user via the keyboard with the help if the `input` statement.\n",
    "\n",
    "```python\n",
    "input('Give me some data: ')\n",
    "```\n",
    "\n",
    "Write the code from above into the cell below. Once you are done, execute the code by hitting CTRL-Return or by clicking `▶ Run` in your notebook. To end entering your data hit return."
   ]
  },
  {
   "cell_type": "code",
   "execution_count": 5,
   "metadata": {
    "slideshow": {
     "slide_type": "fragment"
    }
   },
   "outputs": [
    {
     "name": "stdout",
     "output_type": "stream",
     "text": [
      "Give information:50\n"
     ]
    },
    {
     "data": {
      "text/plain": [
       "'50'"
      ]
     },
     "execution_count": 5,
     "metadata": {},
     "output_type": "execute_result"
    }
   ],
   "source": [
    "input('Give information:')"
   ]
  },
  {
   "cell_type": "markdown",
   "metadata": {
    "slideshow": {
     "slide_type": "subslide"
    }
   },
   "source": [
    "# Data Output\n",
    "\n",
    "\n",
    "In Python you can display information to the user with a `print` statement.\n",
    "\n",
    "```python\n",
    "print('Hey, wait! I have to tell you something important.')\n",
    "```\n",
    "\n",
    "Write the code from above into the cell below. Then execute the code by hitting CTRL-Return or by clicking `▶ Run` in your notebook."
   ]
  },
  {
   "cell_type": "code",
   "execution_count": 6,
   "metadata": {
    "slideshow": {
     "slide_type": "fragment"
    }
   },
   "outputs": [
    {
     "name": "stdout",
     "output_type": "stream",
     "text": [
      "Hallo class!\n"
     ]
    }
   ],
   "source": [
    "print('Hallo class!')"
   ]
  },
  {
   "cell_type": "markdown",
   "metadata": {
    "slideshow": {
     "slide_type": "subslide"
    }
   },
   "source": [
    "# Data Processing\n",
    "\n",
    "## Assigning Input to a Variable\n",
    "\n",
    "If you want to keep what user inputs to a program via the keyboard, you have to assign the return value of the input statement to a variable.\n",
    "\n",
    "For example, modify your small input program from above into the following and type it into the code field below:\n",
    "\n",
    "```python\n",
    "data = input('Give me some data: ')\n",
    "```\n",
    "\n",
    "What is the difference to the earlier program?"
   ]
  },
  {
   "cell_type": "code",
   "execution_count": 7,
   "metadata": {
    "slideshow": {
     "slide_type": "fragment"
    }
   },
   "outputs": [
    {
     "name": "stdout",
     "output_type": "stream",
     "text": [
      "Give me some data: Hej!\n"
     ]
    }
   ],
   "source": [
    "data = input('Give me some data: ')"
   ]
  },
  {
   "cell_type": "markdown",
   "metadata": {
    "slideshow": {
     "slide_type": "subslide"
    }
   },
   "source": [
    "If you wanted to, you could combine input and output into one small program as in the following:\n",
    "\n",
    "```python\n",
    "data = input('Give me some data: ')\n",
    "print(data)\n",
    "```"
   ]
  },
  {
   "cell_type": "code",
   "execution_count": 2,
   "metadata": {
    "slideshow": {
     "slide_type": "fragment"
    }
   },
   "outputs": [
    {
     "name": "stdout",
     "output_type": "stream",
     "text": [
      "Give me some data: More Data!\n",
      "More Data!\n"
     ]
    }
   ],
   "source": [
    "data = input('Give me some data: ')\n",
    "print(data)"
   ]
  },
  {
   "cell_type": "markdown",
   "metadata": {
    "slideshow": {
     "slide_type": "slide"
    }
   },
   "source": [
    "# Data types\n",
    "\n",
    "Python has different *types* of data. Two examples are numbers and text. \n",
    "\n",
    "* This is a piece of text: `'Give me some data: '`\n",
    "* This is a number: `10`"
   ]
  },
  {
   "cell_type": "markdown",
   "metadata": {
    "slideshow": {
     "slide_type": "fragment"
    }
   },
   "source": [
    "In Python numbers are called _integers_. _Integers_ are whole numbers like `1`, `8`, `-15`."
   ]
  },
  {
   "cell_type": "markdown",
   "metadata": {
    "slideshow": {
     "slide_type": "fragment"
    }
   },
   "source": [
    "In Python text is called _strings_. _Strings_ in Python are surrounded with a single quote like so: `'I am text'`  \n",
    "\n",
    "Note: Python also accepts quotation marks to indicate a string: `\"I am text\"`. But we will attempt to stick to the single quotes. "
   ]
  },
  {
   "cell_type": "markdown",
   "metadata": {
    "slideshow": {
     "slide_type": "fragment"
    }
   },
   "source": [
    "Try to write an integer in the code field below. Then try to delete the number and write a string. Remember that you can execute your code by hitting CTRL-Return or by clicking `▶ Run`"
   ]
  },
  {
   "cell_type": "code",
   "execution_count": 12,
   "metadata": {
    "slideshow": {
     "slide_type": "fragment"
    }
   },
   "outputs": [
    {
     "data": {
      "text/plain": [
       "'Hej'"
      ]
     },
     "execution_count": 12,
     "metadata": {},
     "output_type": "execute_result"
    }
   ],
   "source": [
    "'Hej'"
   ]
  },
  {
   "cell_type": "markdown",
   "metadata": {
    "slideshow": {
     "slide_type": "subslide"
    }
   },
   "source": [
    "# Doing stuff with numbers and text\n",
    "\n",
    "There is a reason for distinguishing between numbers and text. In the code field below, try to multiply the integer 4 with 17. \n",
    "A multiplication in Python is written with the asterix character (`*`). Multiplying 1 with 2 is written `1 * 2`."
   ]
  },
  {
   "cell_type": "code",
   "execution_count": 15,
   "metadata": {
    "slideshow": {
     "slide_type": "fragment"
    }
   },
   "outputs": [
    {
     "data": {
      "text/plain": [
       "625"
      ]
     },
     "execution_count": 15,
     "metadata": {},
     "output_type": "execute_result"
    }
   ],
   "source": [
    "5 * 25 * 5"
   ]
  },
  {
   "cell_type": "markdown",
   "metadata": {
    "slideshow": {
     "slide_type": "subslide"
    }
   },
   "source": [
    "You probably expected that. But what happens if you multiply the string `'ring '` with 7 (don't forget the trailing space)? Try it out below."
   ]
  },
  {
   "cell_type": "code",
   "execution_count": 16,
   "metadata": {
    "slideshow": {
     "slide_type": "fragment"
    }
   },
   "outputs": [
    {
     "data": {
      "text/plain": [
       "'ring ring ring ring ring ring ring '"
      ]
     },
     "execution_count": 16,
     "metadata": {},
     "output_type": "execute_result"
    }
   ],
   "source": [
    "'ring ' * 7"
   ]
  },
  {
   "cell_type": "markdown",
   "metadata": {
    "slideshow": {
     "slide_type": "fragment"
    }
   },
   "source": [
    "... Banana phone! Can you guess what happens when you execute the code below?"
   ]
  },
  {
   "cell_type": "code",
   "execution_count": 17,
   "metadata": {
    "slideshow": {
     "slide_type": "fragment"
    }
   },
   "outputs": [
    {
     "data": {
      "text/plain": [
       "'NaNaNaNaNaNaNaNaNaNaNaNaNaNaNaNa Batman!'"
      ]
     },
     "execution_count": 17,
     "metadata": {},
     "output_type": "execute_result"
    }
   ],
   "source": [
    "('Na' * 16) + ' Batman!'"
   ]
  },
  {
   "cell_type": "markdown",
   "metadata": {
    "slideshow": {
     "slide_type": "fragment"
    }
   },
   "source": [
    "## More about variables\n",
    "\n",
    "Before when you used `input(...)` to get some data from the user, you stored that data in a **variable**. A variable is simply a placeholder for information. Variables have names such as `data` or `my_variable` so we can find them again. Here is a simple example on how to create a variable:\n",
    "\n",
    "    my_variable = 3"
   ]
  },
  {
   "cell_type": "markdown",
   "metadata": {
    "slideshow": {
     "slide_type": "subslide"
    }
   },
   "source": [
    "Your turn. Which one of the following two is a variable and which one is a string?"
   ]
  },
  {
   "cell_type": "code",
   "execution_count": null,
   "metadata": {
    "slideshow": {
     "slide_type": "fragment"
    }
   },
   "outputs": [],
   "source": [
    "spam\n",
    "'spam'"
   ]
  },
  {
   "cell_type": "markdown",
   "metadata": {
    "slideshow": {
     "slide_type": "subslide"
    }
   },
   "source": [
    "Can you store the value `'D' + 'K'` in the variable called `text`?"
   ]
  },
  {
   "cell_type": "code",
   "execution_count": 19,
   "metadata": {
    "slideshow": {
     "slide_type": "fragment"
    }
   },
   "outputs": [
    {
     "name": "stdout",
     "output_type": "stream",
     "text": [
      "DK\n"
     ]
    }
   ],
   "source": [
    "text = 'D' + 'K'\n",
    "print(text)"
   ]
  },
  {
   "cell_type": "markdown",
   "metadata": {
    "slideshow": {
     "slide_type": "subslide"
    }
   },
   "source": [
    "Can you guess what the variable contains? Try to print the content of the variable and see if it matches your expectation."
   ]
  },
  {
   "cell_type": "code",
   "execution_count": null,
   "metadata": {
    "collapsed": true,
    "slideshow": {
     "slide_type": "fragment"
    }
   },
   "outputs": [],
   "source": []
  },
  {
   "cell_type": "markdown",
   "metadata": {
    "slideshow": {
     "slide_type": "subslide"
    }
   },
   "source": [
    "Variables are great because they help us remember things. Your variable `text` now exists until you either:\n",
    "* kill the application that contains the variable (right now your notebook) or\n",
    "* overwrite the variable\n",
    "\n",
    "We don't want to close the notebook just yet (although we encourage you to try and see what happens), so let's try to overwrite your variable. Store `'Hello'` in the variable `text` and print the content:"
   ]
  },
  {
   "cell_type": "code",
   "execution_count": 4,
   "metadata": {
    "slideshow": {
     "slide_type": "fragment"
    }
   },
   "outputs": [
    {
     "name": "stdout",
     "output_type": "stream",
     "text": [
      "Hello!\n"
     ]
    }
   ],
   "source": [
    "text = 'D' + 'K'\n",
    "text = 'Hello!'\n",
    "print(text)"
   ]
  },
  {
   "cell_type": "markdown",
   "metadata": {
    "slideshow": {
     "slide_type": "subslide"
    }
   },
   "source": [
    "This form of overwriting *completely removes* the previous value of `text`. We cannot acces the previous data (`'DK'`).\n",
    "You can think of variables as placeholders: now `text` is equivalent to `'Hello'`, so every time we need the \n",
    "string `'Hello'` we can simply write `text`. \n",
    "\n",
    "This is pretty daft of course because `'Hello'` is not that much more difficult to write than `text`. But you can save much more data in a variable, and then this form of substitution becomes very handy."
   ]
  },
  {
   "cell_type": "markdown",
   "metadata": {
    "slideshow": {
     "slide_type": "subslide"
    }
   },
   "source": [
    "## Converting Input\n",
    "\n",
    "A Python program treats all input that it receives from the keyboard as a string. That is, as a sequence of textual characters. Even when you enter numbers, such as `1`, `2`, `3`, etc.\n",
    "\n",
    "If you wanted to input numbers and treat them as numbers and not as strings, you have to tell your program to convert the data type of your input into an integer (`int`).\n",
    "\n",
    "```python\n",
    "data = input('Give me a positive number: ')\n",
    "print('I say \"Hello\" multiple times: ' + data)\n",
    "data = int(data)\n",
    "print(data * 'Hello')\n",
    "```\n",
    "\n",
    "Describe the difference between the program above and the following program:\n",
    "\n",
    "```python\n",
    "data = input('Give me a positive number: ')\n",
    "print('I say \"Hello\" multiple times: ' + data)\n",
    "print(int(data) * 'Hello')\n",
    "```"
   ]
  },
  {
   "cell_type": "code",
   "execution_count": 23,
   "metadata": {
    "slideshow": {
     "slide_type": "fragment"
    }
   },
   "outputs": [
    {
     "name": "stdout",
     "output_type": "stream",
     "text": [
      "Give me a positive number: 5\n",
      "I say \"Hello\" multiple times: 5\n",
      "HelloHelloHelloHelloHello\n"
     ]
    }
   ],
   "source": [
    "data = input('Give me a positive number: ')\n",
    "print('I say \"Hello\" multiple times: ' + data)\n",
    "data = int(data)\n",
    "print(data * 'Hello')"
   ]
  },
  {
   "cell_type": "markdown",
   "metadata": {
    "slideshow": {
     "slide_type": "subslide"
    }
   },
   "source": [
    "Sometimes Python gets confused about the type of your data. We saw that you could multiply a `string` with an `integer`. But what about `adding` (`+`) a string with an `integer`? Try to execute the following:"
   ]
  },
  {
   "cell_type": "code",
   "execution_count": null,
   "metadata": {},
   "outputs": [],
   "source": [
    "print('I '+ 'really ' * int(input('How much do you like cookie dough (1-10): ')) + 'like cookie dough') \n",
    "\n",
    "answer = input('How much do you like Cookie Dough, 1 to 10 ')\n",
    "times = int(answer)\n",
    "print('I ' + 'really ' * times + 'like cookie dough')\n",
    "\n",
    "my_input = int(input(\"How much do you love cookie dough? \"))\n",
    "print(\"I \"+ my_input * \"really \" + \"like cookie dough\")\n",
    "\n",
    "count = input(\"how much do you like cookie dough on a scale 1-10\")\n",
    "really = \"really \" * int(count)\n",
    "print(\"I \" + really + \"like cookie dough!\")\n",
    "\n",
    "print('I dont like cookie dough')"
   ]
  },
  {
   "cell_type": "code",
   "execution_count": 25,
   "metadata": {
    "slideshow": {
     "slide_type": "fragment"
    }
   },
   "outputs": [
    {
     "data": {
      "text/plain": [
       "'Space10'"
      ]
     },
     "execution_count": 25,
     "metadata": {},
     "output_type": "execute_result"
    }
   ],
   "source": [
    "'Space' + 10"
   ]
  },
  {
   "cell_type": "markdown",
   "metadata": {
    "slideshow": {
     "slide_type": "subslide"
    }
   },
   "source": [
    "What you just saw was an `Error`. You will see a lot of these in your programming career. But don't worry, it helps us to understand the root of the problem.\n",
    "\n",
    "`TypeError: must be str, not int`\n",
    "\n",
    "In other words Python gets confused about the *types* of your data. Python sees an `int` (`10`), but is expecting a `str` (`string`). Luckily we can fix this. Just like we could take a `string` and turn it into an `int` (using `int`), we can also take an `integer` and turn it into a `str` (`string`). Can you guess how and fix the code below?"
   ]
  },
  {
   "cell_type": "code",
   "execution_count": null,
   "metadata": {
    "slideshow": {
     "slide_type": "fragment"
    }
   },
   "outputs": [],
   "source": [
    "'Space' + 10"
   ]
  },
  {
   "cell_type": "markdown",
   "metadata": {
    "slideshow": {
     "slide_type": "subslide"
    }
   },
   "source": [
    "## Operations\n",
    " \n",
    "So far you have worked with `+`, `*` to manipulate your data. These are called `operators` because they `operate` on your data."
   ]
  },
  {
   "cell_type": "markdown",
   "metadata": {
    "slideshow": {
     "slide_type": "subslide"
    }
   },
   "source": [
    "The following piece of code uses the operator `*`. But it returns an empty string (`''`). Can you figure out why? And can you make it return `'Hello'`?"
   ]
  },
  {
   "cell_type": "code",
   "execution_count": 31,
   "metadata": {
    "slideshow": {
     "slide_type": "fragment"
    }
   },
   "outputs": [
    {
     "ename": "TypeError",
     "evalue": "'int' object is not callable",
     "output_type": "error",
     "traceback": [
      "\u001b[0;31m---------------------------------------------------------------------------\u001b[0m",
      "\u001b[0;31mTypeError\u001b[0m                                 Traceback (most recent call last)",
      "\u001b[0;32m<ipython-input-31-355b70c05717>\u001b[0m in \u001b[0;36m<module>\u001b[0;34m()\u001b[0m\n\u001b[0;32m----> 1\u001b[0;31m \u001b[0mprint\u001b[0m\u001b[0;34m(\u001b[0m\u001b[0;36m10\u001b[0m\u001b[0;34m)\u001b[0m\u001b[0;34m\u001b[0m\u001b[0m\n\u001b[0m",
      "\u001b[0;31mTypeError\u001b[0m: 'int' object is not callable"
     ]
    }
   ],
   "source": [
    "print(10)"
   ]
  },
  {
   "cell_type": "markdown",
   "metadata": {
    "slideshow": {
     "slide_type": "subslide"
    }
   },
   "source": [
    "Which of these are operators and which are data?\n",
    "\n",
    "* ``+``\n",
    "* ``8``\n",
    "* ``'Yolo'``\n",
    "* ``*``\n",
    "* ``'C4rp3 Di3m'``\n",
    "* ``/``\n",
    "* ``'*'``"
   ]
  },
  {
   "cell_type": "markdown",
   "metadata": {
    "slideshow": {
     "slide_type": "subslide"
    }
   },
   "source": [
    "Before you saw an example where you added `strings` and `integers`. Let's try to expand that. Can you make the below code return '7ate9'?"
   ]
  },
  {
   "cell_type": "code",
   "execution_count": null,
   "metadata": {
    "slideshow": {
     "slide_type": "fragment"
    }
   },
   "outputs": [],
   "source": [
    "7 + 8 + 9"
   ]
  },
  {
   "cell_type": "markdown",
   "metadata": {
    "slideshow": {
     "slide_type": "subslide"
    }
   },
   "source": [
    "# Your first program\n",
    "\n",
    "Now that we have learned about getting input (with `input`), printing text (strings), data types (`str` and `int`) and operators (`+`, `*` and `/`), we'll put it all together. \n",
    "\n",
    "Here is the requirement for your program:\n",
    "Your program will identify how much the user likes cookie dough. The user can give a number between 1 and 10 to indicate just how much he/she likes it. If the user types 1, you should print `'I really like cookie dough'`. If the user types 3, you should print `'I really really really like cookie dough'`. If the user types 10, we have a serious cookie dough lover, so you should print `'really'` 10 times. \n",
    "\n",
    "You can assume that the user will never enter a number outside the range of 1-10."
   ]
  },
  {
   "cell_type": "code",
   "execution_count": null,
   "metadata": {
    "collapsed": true,
    "slideshow": {
     "slide_type": "fragment"
    }
   },
   "outputs": [],
   "source": [
    "   "
   ]
  },
  {
   "cell_type": "markdown",
   "metadata": {
    "slideshow": {
     "slide_type": "fragment"
    }
   },
   "source": [
    "Hint: Developing applications is hard. The best approach is to break the problem down into steps. What is the first thing you need for your program?"
   ]
  },
  {
   "cell_type": "markdown",
   "metadata": {
    "slideshow": {
     "slide_type": "fragment"
    }
   },
   "source": [
    "\n",
    "Hint: The first thing you need is input. Look above: do you remember how to get some input from the user? Now you can proceed: what type is the input you just received? And what type do you actually need?"
   ]
  },
  {
   "cell_type": "markdown",
   "metadata": {
    "slideshow": {
     "slide_type": "fragment"
    }
   },
   "source": [
    "Hint: Now that you have a number from the user (between 1 and 10) the second step is to use that number. For what do you have to use the number?"
   ]
  },
  {
   "cell_type": "markdown",
   "metadata": {
    "slideshow": {
     "slide_type": "fragment"
    }
   },
   "source": [
    "Hint: The number determines how many times the string `'really'` should be printed. Do you remember what operator can print a string multiple times?"
   ]
  },
  {
   "cell_type": "markdown",
   "metadata": {
    "slideshow": {
     "slide_type": "slide"
    }
   },
   "source": [
    "# Congratulations!\n",
    "\n",
    "You have now written your first program. And it's actually a pretty useful program. Think about it; you have \n",
    "1. received input from a user\n",
    "2. processed that into the number you needed\n",
    "3. used that number to produce some output\n",
    "4. ..that you printed back to the user\n",
    "\n",
    "Good job! Next you'll write a more sophisticated program that can talk back to you! Then we will look at exactly why you are writing code like this and why it's so useful."
   ]
  },
  {
   "cell_type": "markdown",
   "metadata": {
    "slideshow": {
     "slide_type": "slide"
    }
   },
   "source": [
    "## References\n",
    "\n",
    "The original paper describing ELIZA is: \n",
    "\n",
    "  * Joseph Weizenbaum, [ELIZA - A Computer Program For the Study of Natural Language Communication Between Man And Machine](http://www.cse.buffalo.edu/~rapaport/572/S02/weizenbaum.eliza.1966.pdf) _Communications of the ACM, Vol 9, No 1, January 1966_\n",
    "  \n",
    "The code in this session is based on the following\n",
    "  \n",
    "  * code: https://github.com/jezhiggins/eliza.py and\n",
    "  * blog post: https://www.jezuk.co.uk/blog/2017/08/eliza-in-python.html"
   ]
  }
 ],
 "metadata": {
  "celltoolbar": "Slideshow",
  "kernelspec": {
   "display_name": "Python 3",
   "language": "python",
   "name": "python3"
  },
  "language_info": {
   "codemirror_mode": {
    "name": "ipython",
    "version": 3
   },
   "file_extension": ".py",
   "mimetype": "text/x-python",
   "name": "python",
   "nbconvert_exporter": "python",
   "pygments_lexer": "ipython3",
   "version": "3.6.4"
  }
 },
 "nbformat": 4,
 "nbformat_minor": 2
}
