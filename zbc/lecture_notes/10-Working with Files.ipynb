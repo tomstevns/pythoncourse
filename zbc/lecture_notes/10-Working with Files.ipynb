{
 "cells": [
  {
   "cell_type": "markdown",
   "metadata": {},
   "source": [
    "# Reading from a File\n",
    "\n",
    "An incredible amount of data is available in text files. Text files can con- tain weather data, traffic data, socioeconomic data, literary works, and more. Reading from a file is particularly useful in data analysis applications, but it’s also applicable to any situation in which you want to analyze or modify information stored in a file. For example, you can write a program that reads in the contents of a text file and rewrites the file with formatting that allows a browser to display it.\n",
    "When you want to work with the information in a text file, the first step is to read the file into memory. You can read the entire contents of a file, or you can work through the file one line at a time.\n",
    "\n",
    "## Reading an Entire File\n",
    "\n",
    "To begin, we need a file with a few lines of text in it. Let’s start with a file that contains pi to 30 decimal places with 10 decimal places per line:"
   ]
  },
  {
   "cell_type": "code",
   "execution_count": 1,
   "metadata": {},
   "outputs": [
    {
     "name": "stdout",
     "output_type": "stream",
     "text": [
      "Downloading file to ./pi_30_digits.txt\n",
      "3.1415926535\n",
      "  8979323846\n",
      "  2643383279\n",
      "\n"
     ]
    }
   ],
   "source": [
    "import webget\n",
    "\n",
    "# Download the file in case we do not have it already\n",
    "url = 'https://raw.githubusercontent.com/ehmatthes/pcc/master/chapter_10/pi_30_digits.txt' \n",
    "webget.download(url)\n",
    "\n",
    "with open('pi_30_digits.txt') as file_object:\n",
    "    contents = file_object.read()\n",
    "    print(contents)"
   ]
  },
  {
   "cell_type": "markdown",
   "metadata": {},
   "source": [
    "Let’s start by looking at the `open() function`. To do any work with a file, even just printing its contents, you first need to open the file to access it. The `open()` function needs one argument: the name of the file you want to open. Python looks for this file in the directory where the program that is currently being executed is stored. \n",
    "\n",
    "The `open()` function returns an object representing the file. Here, `open('pi_30_digits.txt')` returns an object representing `pi_30_digits.txt`. Python stores this object in `file_object`, which we will work with later in the program.\n",
    "\n",
    "The keyword `with` denotes a *Context Manager*, which essentially wraps a block of code and performs an action at the end of the block, no matter how it exits. In this case, it closes the file once access to it is no longer needed. Notice how we call `open()` in this program but not `close()`. You could open and close the file by calling `open()` and `close()`, but if a bug in your program prevents the `close()` statement from being executed, the file may never close. This may seem trivial, but improperly closed files can cause data to be lost or corrupted. And if you call `close()` too early in your program, you’ll find yourself trying to work with a closed file (a file you can’t access), which leads to more errors. It is not always easy to know exactly when you should close a file, but with the structure shown here, Python will figure that out for you. All you have to do is open the file and work with it as desired, trusting that Python will close it automatically when the time is right.\n",
    "\n",
    "Once we have a file object representing `pi_30_digits.txt`, we use the `read()` method in the second line of our program to read the entire contents of the file and store it as one long string in contents. When we print the value of contents, we get the **entire** text file back.\n",
    "\n",
    "The only difference between this output and the original file is the extra blank line at the end of the output. The blank line appears because `read()` returns an empty string when it reaches the end of the file; this empty string shows up as a blank line. If you want to remove the extra blank line, you can use `rstrip()`."
   ]
  },
  {
   "cell_type": "markdown",
   "metadata": {},
   "source": [
    "## File Paths\n",
    "\n",
    "When you pass a simple filename like `pi_30_digits.txt` to the `open()` function, Python looks in the directory where the file that is currently being executed (that is, your .py program file) is stored.\n",
    "\n",
    "Sometimes, depending on how you organize your work, the file you want to open is not located in the same directory as your program file. Therefore, you can use *relative* and *absolute file paths* as arguments to the `open()` function.\n",
    "\n",
    "A relative file path tells Python to look for a given location relative to the directory where the currently running program file is stored. On Linux and OS X, you would write:\n",
    "\n",
    "```python\n",
    "with open('text_files/filename.txt') as file_object:\n",
    "    pass\n",
    "```\n",
    "\n",
    "This tells Python to look for the \".txt\" file in the folder `text_files`, which is assumed to be located inside your current working directory. On Windows systems, you use a backslash (`\\`) instead of a forward slash (`/`) in the file path:\n",
    "\n",
    "```python\n",
    "with open('text_files\\filename.txt') as file_object:\n",
    "    pass\n",
    "```\n",
    "\n",
    "An absolute file path, tells the Python interpreter exactly where a file is located regardless of the current working directory. On Linux and OS X, absolute paths look like:\n",
    "\n",
    "```python\n",
    "file_path = '/tmp/text_files/filename.txt' \n",
    "with open(file_path) as file_object:\n",
    "    pass\n",
    "```\n",
    "\n",
    "and on Windows they look like this:\n",
    "\n",
    "```python\n",
    "file_path = 'C:\\Users\\<username>\\AppData\\Local\\Temp\\text_files\\filename.txt' \n",
    "with open(file_path) as file_object:\n",
    "    pass\n",
    "```\n",
    "\n",
    "For the rest of this course, I assume that you are on a Unix'ish environment. Consequently, I will not provide any Windows specific paths.\n",
    "\n",
    "## Reading Line by Line\n",
    "\n",
    "When you are reading a file, you will often want to examine each line of the file. You might be looking for certain information in the file, or you might want to modify the text in the file in some way. \n",
    "\n",
    "You can use a `for` loop on the file object to examine each line from a file one at a time."
   ]
  },
  {
   "cell_type": "code",
   "execution_count": 6,
   "metadata": {},
   "outputs": [
    {
     "name": "stdout",
     "output_type": "stream",
     "text": [
      "3.1415926535\n",
      "\n",
      "  8979323846\n",
      "\n",
      "  2643383279\n",
      "\n"
     ]
    }
   ],
   "source": [
    "with open('pi_30_digits.txt') as file_object:\n",
    "    for line in file_object:\n",
    "        print(line)"
   ]
  },
  {
   "cell_type": "markdown",
   "metadata": {},
   "source": [
    "When printing each line, we find even more blank lines. These blank lines appear because an invisible newline character is at the end of each line in the text file. The print statement adds its own newline each time we call it, so we end up with two newline characters at the end of each line: one from the file and one from the print statement. Again, using `rstrip()` on each line in the `print` statement eliminates these extra blank lines."
   ]
  },
  {
   "cell_type": "code",
   "execution_count": 10,
   "metadata": {},
   "outputs": [
    {
     "name": "stdout",
     "output_type": "stream",
     "text": [
      "3.1415926535\n",
      "  8979323846\n",
      "  2643383279\n"
     ]
    }
   ],
   "source": [
    "with open('pi_30_digits.txt') as file_object:\n",
    "    for line in file_object:\n",
    "        print(line.rstrip())"
   ]
  },
  {
   "cell_type": "markdown",
   "metadata": {},
   "source": [
    "## Making a List of Lines from a File\n",
    "\n",
    "When you use `with`, the file object returned by `open()` is only available inside the `with` block that contains it. If you want to retain access to a file’s contents outside the with block, you can store the file’s lines in a list inside the block and then work with that list.\n",
    "\n",
    "The following example stores the lines of `pi_30_digits.txt` in a list inside the with block and then prints the lines outside the with block."
   ]
  },
  {
   "cell_type": "code",
   "execution_count": 11,
   "metadata": {},
   "outputs": [
    {
     "name": "stdout",
     "output_type": "stream",
     "text": [
      "3.1415926535\n",
      "  8979323846\n",
      "  2643383279\n"
     ]
    }
   ],
   "source": [
    "filename = 'pi_30_digits.txt'\n",
    "\n",
    "with open(filename) as file_object:\n",
    "    lines = file_object.readlines()\n",
    "\n",
    "for line in lines:\n",
    "    print(line.rstrip())"
   ]
  },
  {
   "cell_type": "markdown",
   "metadata": {},
   "source": [
    "## Working with a File’s Contents\n",
    "\n",
    "After you have read a file into memory, you can do whatever you want with that data, so let’s briefly explore the digits of pi. First, we’ll attempt to build a single string containing all the digits in the file with no whitespace in it.\n",
    "\n",
    "**OBS!** When Python reads from a text file, it interprets all text in the file as a string. If you read in a number and want to work with that value in a numerical context, you will have to convert it to an integer using the `int()` function or convert it to a float using the `float()` function."
   ]
  },
  {
   "cell_type": "code",
   "execution_count": 14,
   "metadata": {},
   "outputs": [
    {
     "name": "stdout",
     "output_type": "stream",
     "text": [
      "3.1415926535  8979323846  2643383279\n",
      "36\n"
     ]
    }
   ],
   "source": [
    "filename = 'pi_30_digits.txt'\n",
    "\n",
    "with open(filename) as file_object:\n",
    "    lines = file_object.readlines()\n",
    "\n",
    "pi_string = ''\n",
    "for line in lines:\n",
    "    pi_string += line.rstrip()\n",
    "    # pi_string += line.strip()\n",
    "\n",
    "print(pi_string) \n",
    "print(len(pi_string))\n"
   ]
  },
  {
   "cell_type": "markdown",
   "metadata": {},
   "source": [
    "## Large Files: One Million Digits\n",
    "\n",
    "\n",
    "So far we have focused on analyzing a text file that contains only three lines, but the code in these examples would work just as well on much larger files. If we start with a text file that contains pi to 1,000,000 decimal places instead of just 30, we can create a single string containing all these digits. We do not need to change our program at all except to pass it a different file. We will also print just the first 50 decimal places, so we do not have to watch a million digits scroll by in the terminal.\n",
    "\n",
    "Python has no inherent limit to how much data you can work with; you can work with as much data as your system’s memory can handle."
   ]
  },
  {
   "cell_type": "code",
   "execution_count": 15,
   "metadata": {},
   "outputs": [
    {
     "name": "stdout",
     "output_type": "stream",
     "text": [
      "Downloading file to ./pi_million_digits.txt\n",
      "3.14159265358979323846264338327950288419716939937510582097494459230781640628620899862803482534211706...\n",
      "7982148086513282306647093844609550582231725359408128481117450284102701938521105559644622948954930381...\n",
      "1000002\n"
     ]
    }
   ],
   "source": [
    "import webget\n",
    "\n",
    "# Download the file in case we do not have it already\n",
    "url = 'https://raw.githubusercontent.com/ehmatthes/pcc/master/chapter_10/pi_million_digits.txt' \n",
    "webget.download(url)\n",
    "\n",
    "filename = 'pi_million_digits.txt'\n",
    "with open(filename) as file_object:\n",
    "    lines = file_object.readlines()\n",
    "    \n",
    "pi_string = ''\n",
    "for line in lines:\n",
    "    pi_string += line.strip()\n",
    "\n",
    "print(pi_string[:100] + \"...\")\n",
    "print(pi_string[100:200] + \"...\")\n",
    "print(len(pi_string))"
   ]
  },
  {
   "cell_type": "markdown",
   "metadata": {},
   "source": [
    "# Writing to a File\n",
    "\n",
    "One of the simplest ways to save data is to write it to a file. When you write text to a file, the output will still be available after you close the terminal containing your program’s output. You can examine output after a program finishes running, and you can share the output files with others as well. You can also write programs that read the text back into memory and work with it again later.\n",
    "\n",
    "## Writing to an Empty File\n",
    "\n",
    "To write text to a file, you need to call `open()` with a second argument telling Python that you want to write to the file. To see how this works, let’s write a simple message and store it in a file instead of printing it to the screen.\n",
    "\n",
    "The call to `open()` in the following example has two arguments. The first argument is still the name of the file we want to open. The second argument, `'w'`, tells the Python interpreter, that we want to open the file in write mode. You can open a file in *read mode* (`'r'`), *write mode* (`'w'`), *append mode* (`'a'`), or a mode that allows you to *read and write* to the file (`'r+'`). If you omit the mode argument, Python opens the file in read-only mode by default.\n",
    "\n",
    "The `open()` function automatically creates the file you are writing to if it does not already exist. However, be careful opening a file in write mode (`'w'`) because if the file does exist, Python will erase the file before returning the file object."
   ]
  },
  {
   "cell_type": "code",
   "execution_count": 16,
   "metadata": {
    "collapsed": true
   },
   "outputs": [],
   "source": [
    "filename = '/tmp/msg.txt'\n",
    "\n",
    "with open(filename, 'w') as file_object:\n",
    "    file_object.write(pi_string[:50])"
   ]
  },
  {
   "cell_type": "markdown",
   "metadata": {},
   "source": [
    "## Writing Multiple Lines\n",
    "\n",
    "The `write()` function does not add any newlines to the text you write. So if you write more than one line without including newline characters, your file may not look the way you want it to."
   ]
  },
  {
   "cell_type": "code",
   "execution_count": 25,
   "metadata": {
    "collapsed": true
   },
   "outputs": [],
   "source": [
    "import time\n",
    "filename = '/tmp/msg.txt'\n",
    "\n",
    "with open(filename, 'w') as file_object:\n",
    "    file_object.write(pi_string[:50])\n",
    "    time.sleep(60 * 2)\n",
    "    file_object.write(pi_string[50:100])"
   ]
  },
  {
   "cell_type": "code",
   "execution_count": 18,
   "metadata": {},
   "outputs": [
    {
     "name": "stdout",
     "output_type": "stream",
     "text": [
      "3.14159265358979323846264338327950288419716939937510582097494459230781640628620899862803482534211706"
     ]
    }
   ],
   "source": [
    "cat /tmp/msg.txt"
   ]
  },
  {
   "cell_type": "markdown",
   "metadata": {},
   "source": [
    "If you open `/tmp/msg.txt`, you will see the two lines squished together. Including newlines in your write() statements makes each string appear on its own line. You can also use spaces, tab characters, and blank lines to format your output, just as you have been doing with terminal-based output."
   ]
  },
  {
   "cell_type": "code",
   "execution_count": 19,
   "metadata": {
    "collapsed": true
   },
   "outputs": [],
   "source": [
    "filename = '/tmp/msg.txt'\n",
    "\n",
    "with open(filename, 'w') as file_object:\n",
    "    file_object.write(pi_string[:50] + '\\n')\n",
    "    file_object.write(pi_string[50:100] + '\\n')"
   ]
  },
  {
   "cell_type": "code",
   "execution_count": 20,
   "metadata": {},
   "outputs": [
    {
     "name": "stdout",
     "output_type": "stream",
     "text": [
      "3.141592653589793238462643383279502884197169399375\r\n",
      "10582097494459230781640628620899862803482534211706\r\n"
     ]
    }
   ],
   "source": [
    "cat /tmp/msg.txt"
   ]
  },
  {
   "cell_type": "markdown",
   "metadata": {},
   "source": [
    "## Appending to a File\n",
    "\n",
    "If you want to add content to a file instead of writing over existing content, you can open the file in append mode. When you open a file in append mode, Python does not erase the file before returning the file object. Any lines you write to the file will be added at the end of the file. If the file does not exist yet, Python will create an empty file for you."
   ]
  },
  {
   "cell_type": "code",
   "execution_count": 21,
   "metadata": {
    "collapsed": true
   },
   "outputs": [],
   "source": [
    "filename = '/tmp/msg.txt'\n",
    "\n",
    "with open(filename, 'a') as file_object:\n",
    "    file_object.write(pi_string[100:150] + '\\n')\n",
    "    file_object.write(pi_string[150:200] + '\\n')\n",
    "    file_object.write(pi_string[200:250] + '\\n')"
   ]
  },
  {
   "cell_type": "code",
   "execution_count": 22,
   "metadata": {},
   "outputs": [
    {
     "name": "stdout",
     "output_type": "stream",
     "text": [
      "3.141592653589793238462643383279502884197169399375\r\n",
      "10582097494459230781640628620899862803482534211706\r\n",
      "79821480865132823066470938446095505822317253594081\r\n",
      "28481117450284102701938521105559644622948954930381\r\n",
      "96442881097566593344612847564823378678316527120190\r\n"
     ]
    }
   ],
   "source": [
    "cat /tmp/msg.txt"
   ]
  },
  {
   "cell_type": "markdown",
   "metadata": {},
   "source": [
    "# Storing Data with JSON files\n",
    "\n",
    "\n",
    "A simple way to persist and exchange machine readable data is using the `json` module.\n",
    "\n",
    "The `json` module allows you to dump simple Python data structures into a file and load the data from that file the next time the program runs. You can also use `json` to share data between different Python programs. Even better, the JSON data format is not specific to Python, so you can share data you store in the JSON format with people who work in many other programming languages. It is a useful and portable format, and it is easy to learn.\n",
    "\n",
    "## Using json.dump() and json.load()\n",
    "\n",
    "Let’s write a short program that stores a set of numbers and another program that reads these numbers back into memory. The first program will use json.dump() to store the set of numbers, and the second program will use json.load().\n",
    "The json.dump() function takes two arguments: a piece of data to store and a file object it can use to store the data. Here’s how you can use json.dump() to store a list of numbers:\n"
   ]
  },
  {
   "cell_type": "code",
   "execution_count": 8,
   "metadata": {
    "collapsed": true
   },
   "outputs": [],
   "source": [
    "import json\n",
    "\n",
    "numbers = {1: 'a', 2: [1,2,3]}\n",
    "filename = '/tmp/numbers.json'\n",
    "\n",
    "with open(filename, 'w') as f_obj:\n",
    "    json.dump(numbers, f_obj)"
   ]
  },
  {
   "cell_type": "code",
   "execution_count": 9,
   "metadata": {},
   "outputs": [
    {
     "name": "stdout",
     "output_type": "stream",
     "text": [
      "{\"1\": \"a\", \"2\": [1, 2, 3]}"
     ]
    }
   ],
   "source": [
    "cat /tmp/numbers.json"
   ]
  },
  {
   "cell_type": "markdown",
   "metadata": {},
   "source": [
    "Now we will write a program that uses `json.load()` to read the list back into memory."
   ]
  },
  {
   "cell_type": "code",
   "execution_count": 10,
   "metadata": {},
   "outputs": [
    {
     "data": {
      "text/plain": [
       "{'1': 'a', '2': [1, 2, 3]}"
      ]
     },
     "execution_count": 10,
     "metadata": {},
     "output_type": "execute_result"
    }
   ],
   "source": [
    "import json\n",
    "\n",
    "filename = '/tmp/numbers.json'\n",
    "\n",
    "# open the file in read mode\n",
    "with open(filename) as f_obj: \n",
    "    de_numbers = json.load(f_obj)\n",
    "\n",
    "de_numbers"
   ]
  },
  {
   "cell_type": "code",
   "execution_count": 30,
   "metadata": {
    "collapsed": true
   },
   "outputs": [],
   "source": [
    "import json\n",
    "\n",
    "\n",
    "def marshal(path, data):\n",
    "    with open(path, 'w') as f_obj:\n",
    "        json.dump(data, f_obj)\n",
    "    \n",
    "\n",
    "def unmarshal(path):\n",
    "    with open(path) as f_obj: \n",
    "        content = json.load(f_obj)\n",
    "    return content\n",
    "\n",
    "    \n",
    "# Some example data taken from:\n",
    "# https://adobe.github.io/Spry/samples/data_region/JSONDataSetSample.html#Example6\n",
    "example_data = {\n",
    "    \"id\": \"0001\",\n",
    "    \"type\": \"donut\",\n",
    "    \"name\": \"Cake\",\n",
    "    \"image\": {\n",
    "        \"url\": \"images/0001.jpg\",\n",
    "        \"width\": 200,\n",
    "        \"height\": 200\n",
    "    },\n",
    "    \"thumbnail\": {\n",
    "        \"url\": \"images/thumbnails/0001.jpg\",\n",
    "        \"width\": 32,\n",
    "        \"height\": 32\n",
    "    }\n",
    "}\n",
    "\n",
    "filename = '/tmp/data_store.json'\n",
    "marshal(filename, example_data)"
   ]
  },
  {
   "cell_type": "code",
   "execution_count": 31,
   "metadata": {},
   "outputs": [
    {
     "name": "stdout",
     "output_type": "stream",
     "text": [
      "{\"image\": {\"width\": 200, \"url\": \"images/0001.jpg\", \"height\": 200}, \"thumbnail\": {\"width\": 32, \"url\": \"images/thumbnails/0001.jpg\", \"height\": 32}, \"name\": \"Cake\", \"type\": \"donut\", \"id\": \"0001\"}"
     ]
    }
   ],
   "source": [
    "cat /tmp/data_store.json"
   ]
  },
  {
   "cell_type": "code",
   "execution_count": 32,
   "metadata": {},
   "outputs": [
    {
     "data": {
      "text/plain": [
       "{'id': '0001',\n",
       " 'image': {'height': 200, 'url': 'images/0001.jpg', 'width': 200},\n",
       " 'name': 'Cake',\n",
       " 'thumbnail': {'height': 32, 'url': 'images/thumbnails/0001.jpg', 'width': 32},\n",
       " 'type': 'donut'}"
      ]
     },
     "execution_count": 32,
     "metadata": {},
     "output_type": "execute_result"
    }
   ],
   "source": [
    "unmarshal(filename)"
   ]
  },
  {
   "cell_type": "markdown",
   "metadata": {},
   "source": [
    "## The CSV File Format\n",
    "\n",
    "One simple way to store data in a text file is to write the data as a series of values separated by commas, called comma-separated values. The resulting files are called CSV files. \n",
    "For example, here are two lines of population data from Copenhagen data in CSV format:\n",
    "\n",
    "```csv\n",
    "2015,1,0,5100,614\n",
    "2015,1,0,5104,2\n",
    "```\n",
    "\n",
    "\n",
    "This is population data is from Copenhagen City with respect to year 2015. It includes the year of reference (2015 in first row), a code for the neighborhood of the city, the age of the corresponding citizens, a code of their nationality, and finally the amount of persons of that nationality and age.\n",
    "\n",
    "\n",
    "The dataset is described in more detail here: http://data.kk.dk/dataset/befolkningen-efter-ar-bydel-alder-og-statsborgerskab\n",
    "and the nationality codes are detailed here: http://www.dst.dk/da/Statistik/dokumentation/Times/forebyggelsesregistret/statkode.aspx\n",
    "\n",
    "\n",
    "\n",
    "CSV files are simple. For example, CSV files\n",
    "  * Do not have types for their values—everything is a string\n",
    "  * Do not have settings for font size or color\n",
    "  * Do not have multiple worksheets\n",
    "  * Cannot specify cell widths and heights\n",
    "  * Cannot have merged cells\n",
    "  * Cannot have images or charts embedded in them\n",
    "  \n",
    "The advantage of CSV files is simplicity. CSV files are widely supported by many types of programs, can be viewed in text editors, and are a straightforward way to represent spreadsheet data. The CSV format is exactly as advertised: It is just a text file of comma-separated values.\n",
    "\n",
    "**OBS:** Since CSV files are just text files, you might be tempted to read them in as a string and then process that string using the techniques you learned above. For example, since each cell in a CSV file is separated by a comma, maybe you could just call the `split()` method on each line of text to get the values, see below. But not every comma in a CSV file represents the boundary between two cells. CSV files also have their own set of escape characters to allow commas and other characters to be included as part of the values. The `split()` method does not handle these escape characters. Because of these potential pitfalls, you should always use the `csv` module for reading and writing CSV files.\n",
    "\n",
    "Consequently, do not do the following in practice! It is just for visualization!"
   ]
  },
  {
   "cell_type": "code",
   "execution_count": 33,
   "metadata": {},
   "outputs": [
    {
     "name": "stdout",
     "output_type": "stream",
     "text": [
      "Downloading file to ./befkbhalderstatkode.csv\n",
      "['AAR', 'BYDEL', 'ALDER', 'STATKODE', 'PERSONER']\n",
      "['2015', '1', '0', '5100', '614']\n",
      "['2015', '1', '0', '5104', '2']\n",
      "['2015', '1', '0', '5106', '1']\n",
      "['2015', '1', '0', '5110', '1']\n",
      "['2015', '1', '0', '5120', '4']\n",
      "['2015', '1', '0', '5126', '1']\n",
      "['2015', '1', '0', '5130', '5']\n",
      "['2015', '1', '0', '5140', '3']\n",
      "['2015', '1', '0', '5150', '5']\n",
      "['2015', '1', '0', '5154', '1']\n",
      "['2015', '1', '0', '5164', '3']\n",
      "['2015', '1', '0', '5170', '3']\n",
      "['2015', '1', '0', '5180', '3']\n",
      "['2015', '1', '0', '5228', '1']\n",
      "['2015', '1', '0', '5306', '2']\n",
      "['2015', '1', '0', '5390', '1']\n",
      "['2015', '1', '0', '5448', '1']\n",
      "['2015', '1', '0', '5464', '1']\n",
      "['2015', '1', '0', '5472', '1']\n"
     ]
    }
   ],
   "source": [
    "import webget\n",
    "\n",
    "# Befolkningen efter år, bydel, alder og statsborgerskab\n",
    "# http://data.kk.dk/dataset/befolkningen-efter-ar-bydel-alder-og-statsborgerskab\n",
    "\n",
    "url = 'http://data.kk.dk/dataset/76ecf368-bf2d-46a2-bcf8-adaf37662528/resource/9286af17-f74e-46c9-a428-9fb707542189/download/befkbhalderstatkode.csv'\n",
    "webget.download(url)\n",
    "\n",
    "filename = './befkbhalderstatkode.csv'\n",
    "with open(filename) as f_obj:\n",
    "    content = f_obj.readlines() \n",
    "\n",
    "for line in content[:20]:\n",
    "    print(line.strip().split(','))\n",
    "    "
   ]
  },
  {
   "cell_type": "markdown",
   "metadata": {},
   "source": [
    "However, it is recomended using a proper library, such as `csv`to read CSV files, instead of reading them as text files.\n",
    "\n",
    "### Parsing the CSV File Headers\n",
    "Python’s `csv` module in the standard library parses the lines in a CSV file and allows us to quickly extract the values we are interested in. Let’s start by examining the first line of the file, which contains a series of headers for the data."
   ]
  },
  {
   "cell_type": "code",
   "execution_count": 34,
   "metadata": {},
   "outputs": [
    {
     "name": "stdout",
     "output_type": "stream",
     "text": [
      "['AAR', 'BYDEL', 'ALDER', 'STATKODE', 'PERSONER']\n"
     ]
    }
   ],
   "source": [
    "import csv\n",
    "\n",
    "filename = './befkbhalderstatkode.csv'\n",
    "with open(filename) as f:\n",
    "    reader = csv.reader(f)\n",
    "    header_row = next(reader)\n",
    "    print(header_row)\n"
   ]
  },
  {
   "cell_type": "markdown",
   "metadata": {},
   "source": [
    "### Printing the Headers and Their Positions\n",
    "To make it easier to understand the file header data, print each header and its position, i.e. the index of its row.\n",
    "\n",
    "To read data from a CSV file with the csv module, you need to create a Reader object, see line 2 in the following. A Reader object lets you iterate over lines in the CSV file."
   ]
  },
  {
   "cell_type": "code",
   "execution_count": null,
   "metadata": {
    "collapsed": true
   },
   "outputs": [],
   "source": [
    "with open(filename) as f:\n",
    "    reader = csv.reader(f)\n",
    "    header_row = next(reader)\n",
    "\n",
    "    for index, column_header in enumerate(header_row): \n",
    "        print(index, column_header)"
   ]
  },
  {
   "cell_type": "markdown",
   "metadata": {},
   "source": [
    "### Reading Data from Reader Objects in a `for` Loop\n",
    "\n",
    "For large CSV files, you will want to use the Reader object in a `for` loop."
   ]
  },
  {
   "cell_type": "code",
   "execution_count": null,
   "metadata": {
    "collapsed": true,
    "scrolled": false
   },
   "outputs": [],
   "source": [
    "with open(filename) as f:\n",
    "    reader = csv.reader(f)\n",
    "    header_row = next(reader)\n",
    "\n",
    "    for row in reader:\n",
    "        print('Row #' + str(reader.line_num) + ' ' + str(row))\n",
    "        \n",
    "        # The following line is only for the example in class\n",
    "        # as the file is quite big...\n",
    "        if reader.line_num > 5000:\n",
    "            break"
   ]
  },
  {
   "cell_type": "markdown",
   "metadata": {},
   "source": [
    "### Extracting and Reading Data\n",
    "\n",
    "Now that we know which columns of data we need, let’s read in some of that data.\n",
    "\n",
    "We make an empty set called `ages` and then loop through the remaining rows in the file. The reader object continues from where it left off in the CSV file and automatically returns each line following its current position. Because we have already read the header row, the loop will begin at the second line where the actual data begins. On each pass through the loop, we append the data from index 2, the third column storing the age."
   ]
  },
  {
   "cell_type": "code",
   "execution_count": 38,
   "metadata": {},
   "outputs": [
    {
     "name": "stdout",
     "output_type": "stream",
     "text": [
      "[0, 1, 2, 3, 4, 5, 6, 7, 8, 9, 10, 11, 12, 13, 14, 15, 16, 17, 18, 19, 20, 21, 22, 23, 24, 25, 26, 27, 28, 29, 30, 31, 32, 33, 34, 35, 36, 37, 38, 39, 40, 41, 42, 43, 44, 45, 46, 47, 48, 49, 50, 51, 52, 53, 54, 55, 56, 57, 58, 59, 60, 61, 62, 63, 64, 65, 66, 67, 68, 69, 70, 71, 72, 73, 74, 75, 76, 77, 78, 79, 80, 81, 82, 83, 84, 85, 86, 87, 88, 89, 90, 91, 92, 93, 94, 95, 96, 97, 98, 99, 100, 101, 102, 103, 104, 105, 106, 107, 108, 109, 130]\n",
      "130\n"
     ]
    }
   ],
   "source": [
    "ages = set([])\n",
    "\n",
    "with open(filename) as f:\n",
    "    reader = csv.reader(f)\n",
    "    header_row = next(reader)\n",
    "\n",
    "    for row in reader:\n",
    "        # OBS: cast to int otherwise we would read strings!\n",
    "        ages.add(int(row[2]))\n",
    "        \n",
    "print(sorted(ages))\n",
    "print(max(ages))"
   ]
  },
  {
   "cell_type": "markdown",
   "metadata": {},
   "source": [
    "### Writing Data to CSV Files\n",
    "\n",
    "A Writer object lets you write data to a CSV file. To create a Writer object, you use the csv.writer() function. Enter the following into the interactive shell:\n",
    "\n",
    "First, call `open()` and pass it `'w'` to open a file in write mode. This will create the object you can then pass to `csv.writer()` to create a Writer object.\n",
    "\n",
    "On Windows, you’ll also need to pass a blank string for the `open()` function’s newline keyword argument. For technical reasons beyond the scope of this book, if you forget to set the newline argument, the rows in `/tmp/output.csv` will be double-spaced.\n",
    "\n",
    "The `writerow()` method for Writer objects takes a list argument. Each value in the list is placed in its own cell in the output CSV file. The return value of `writerow()` is the number of characters written to the file for that row (including newline characters). Notice how the Writer object automatically escapes the comma in the value `'614,5'` with double quotes in the CSV file. The `csv` module saves you from having to handle these special cases yourself."
   ]
  },
  {
   "cell_type": "code",
   "execution_count": null,
   "metadata": {
    "collapsed": true
   },
   "outputs": [],
   "source": [
    "import csv\n",
    "import platform\n",
    "\n",
    "\n",
    "if platform.system() == 'Windows':\n",
    "    newline=''\n",
    "else:\n",
    "    newline=None\n",
    "    \n",
    "with open('/tmp/output.csv', 'w', newline=newline) as output_file:\n",
    "    output_writer = csv.writer(output_file)\n",
    "    \n",
    "    output_writer.writerow(['2015', '1', '0', '5100', '614,5'])\n",
    "    output_writer.writerow(['2015', '1', '0', '5104', '2,3'])\n",
    "    output_writer.writerow(['2015', '1', '0', '5106', '1'])\n",
    "    output_writer.writerow(['2015', '1', '0', '5110', '1'])"
   ]
  },
  {
   "cell_type": "code",
   "execution_count": null,
   "metadata": {
    "collapsed": true
   },
   "outputs": [],
   "source": [
    "cat /tmp/output.csv"
   ]
  },
  {
   "cell_type": "code",
   "execution_count": 4,
   "metadata": {},
   "outputs": [],
   "source": [
    "import csv\n",
    "\n",
    "with open('/tmp/output.csv', 'w') as output_file:\n",
    "    output_writer = csv.writer(output_file, delimiter='\\t', quotechar='|')\n",
    "    output_writer.writerow(['2015', '1', '0', '5100', '614\\t5'])\n",
    "    output_writer.writerow(['2015', '1', '0', '5104', '2,3'])\n",
    "    output_writer.writerow(['2015', '1', '0', '5106', '1'])\n",
    "    output_writer.writerow(['2015', '1', '0', '5110', '1'])"
   ]
  },
  {
   "cell_type": "code",
   "execution_count": 5,
   "metadata": {},
   "outputs": [
    {
     "name": "stdout",
     "output_type": "stream",
     "text": [
      "2015\t1\t0\t5100\t|614\t5|\r",
      "\r\n",
      "2015\t1\t0\t5104\t2,3\r",
      "\r\n",
      "2015\t1\t0\t5106\t1\r",
      "\r\n",
      "2015\t1\t0\t5110\t1\r",
      "\r\n"
     ]
    }
   ],
   "source": [
    "cat /tmp/output.csv"
   ]
  },
  {
   "cell_type": "markdown",
   "metadata": {},
   "source": [
    "## Excel Documents\n",
    "\n",
    "An Excel spreadsheet document is called a *workbook*. A single workbook is saved in a file with the `.xlsx` extension. Each workbook can contain multiple sheets -also called *worksheets*. The sheet the user is currently viewing (or last viewed before closing Excel) is called the *active sheet*.\n",
    "\n",
    "Each sheet has *columns* (addressed by letters starting at A) and *rows* (addressed by numbers starting at 1). A box at a particular column and row is called a cell. Each cell can contain a number or text value. The grid of cells with data makes up a sheet.\n",
    "\n",
    "### Reading Excel Documents\n",
    "\n",
    "The examples in this chapter will use a spreadsheet named `iris_data.xlsx` stored in the root folder. The dataset is a traditional dataset (1936) quantifying the morphologic variation of Iris flowers of three related species. The specific instance of the dataset we are uing here was created from: https://en.wikipedia.org/wiki/Iris_flower_data_set#Data_set.\n",
    "\n",
    "#### Opening Excel Documents with OpenPyXL\n",
    "Once you have imported the openpyxl module, you will be able to use the openpyxl `.load_workbook()` function.  You can get a list of all the sheet names in the workbook by calling the `get_sheet_names()` method."
   ]
  },
  {
   "cell_type": "code",
   "execution_count": 11,
   "metadata": {},
   "outputs": [
    {
     "name": "stdout",
     "output_type": "stream",
     "text": [
      "[\"Fisher's Iris Data\"]\n"
     ]
    }
   ],
   "source": [
    "import openpyxl\n",
    "\n",
    "# created from: https://en.wikipedia.org/wiki/Iris_flower_data_set#Data_set\n",
    "filename = './iris_data.xlsx'\n",
    "wb = openpyxl.load_workbook(filename)\n",
    "print(wb.get_sheet_names())"
   ]
  },
  {
   "cell_type": "markdown",
   "metadata": {},
   "source": [
    "The `openpyxl.load_workbook()` function takes in the filename and returns a value of the workbook data type. This Workbook object represents the Excel file, a bit like how a File object represents an opened text file.\n",
    "Remember that `iris_data.xlsx` needs to be in the current working direc- tory in order for you to work with it. You can find out what the current working directory is by importing os and using `os.getcwd()`, and you can change the current working directory using `os.chdir()`.\n",
    "\n",
    "#### Getting Sheets from the Workbook\n",
    "\n",
    "Each sheet is represented by a Worksheet object, which you can obtain by passing the sheet name string to the `get_sheet_by_name()` workbook method. Finally, you can call the `get_active_sheet()` method of a Workbook object to get the workbook’s active sheet. The active sheet is the sheet that’s on top when the workbook is opened in Excel. Once you have the Worksheet object, you can get its name from the title attribute."
   ]
  },
  {
   "cell_type": "code",
   "execution_count": 12,
   "metadata": {},
   "outputs": [
    {
     "name": "stdout",
     "output_type": "stream",
     "text": [
      "Fisher's Iris Data\n",
      "<Worksheet \"Fisher's Iris Data\">\n"
     ]
    }
   ],
   "source": [
    "import openpyxl\n",
    "\n",
    "# created from: https://en.wikipedia.org/wiki/Iris_flower_data_set#Data_set\n",
    "filename = './iris_data.xlsx'\n",
    "wb = openpyxl.load_workbook(filename)\n",
    "\n",
    "sheet = wb.get_sheet_by_name(\"Fisher's Iris Data\")\n",
    "print(sheet.title)\n",
    "print(wb.get_active_sheet())"
   ]
  },
  {
   "cell_type": "markdown",
   "metadata": {},
   "source": [
    "#### Getting Cells from the Sheets\n",
    "\n",
    "Once you have a Worksheet object, you can access a Cell object by its name.\n",
    "\n",
    "The Cell object has a value attribute that contains the value stored in that cell. Cell objects also have *row*, *column*, and *coordinate attri\n",
    "butes* that provide location information for the cell.\n",
    "\n",
    "Here, accessing the value attribute of our Cell object for cell `B1` gives us the string 'Sepal width'. The row attribute gives us the integer `1`, the column attribute gives us `B`, and the coordinate attribute gives us 'Sepal width'.\n",
    "\n",
    "OpenPyXL will automatically interpret the values in cells and return them as as values of the correct type rather than strings. \n",
    "\n",
    "Specifying a column by letter can be tricky to program, especially because after column Z, the columns start by using two letters: AA, AB, AC, and so on. As an alternative, you can also get a cell using the sheet’s `cell()` method and passing integers for its row and column keyword arguments. The first row or column integer is 1, not 0.\n",
    "\n",
    "Using the `cell()` method and its keyword arguments, you can write a for loop to print the values of a series of cells."
   ]
  },
  {
   "cell_type": "code",
   "execution_count": 47,
   "metadata": {},
   "outputs": [
    {
     "name": "stdout",
     "output_type": "stream",
     "text": [
      "<Cell Fisher's Iris Data.B1>\n",
      "('B', 1, 'Sepal width')\n",
      "True\n",
      "Sepal width\n",
      "1 Sepal width\n",
      "3 3\n",
      "5 3.1\n",
      "7 3.9\n"
     ]
    }
   ],
   "source": [
    "zelle = sheet['B1']\n",
    "print(zelle)\n",
    "print((zelle.column, zelle.row, zelle.value))\n",
    "\n",
    "print(sheet.cell(row=1, column=2) == zelle)\n",
    "print(sheet.cell(row=1, column=2).value)\n",
    "\n",
    "\n",
    "for idx in range(1, 8, 2):\n",
    "    print(idx, sheet.cell(row=idx, column=2).value)"
   ]
  },
  {
   "cell_type": "markdown",
   "metadata": {},
   "source": [
    "#### Getting Rows and Columns from the Sheets\n",
    "\n",
    "You can slice Worksheet objects to get all the Cell objects in a row, column, or rectangular area of the spreadsheet. Then you can loop over all the cells in the slice.\n",
    "\n",
    "Here, we specify that we want the Cell objects in the rectangular area from A1 to D4, and we get a Generator object containing the Cell objects in that area. To help us visualize this Generator object, we can use `tuple()` on it to display its Cell objects in a tuple.\n",
    "\n",
    "This tuple contains four tuples: one for each row, from the top of the desired area to the bottom. Each of these four inner tuples contains the `Cell` objects in one row of our desired area, from the leftmost cell to the right. So overall, our slice of the sheet contains all the Cell objects in the area from A1 to D4, starting from the top-left cell and ending with the bottom-right cell.\n",
    "\n",
    "To print the values of each cell in the area, we use two `for` loops. The outer for loop goes over each row in the slice. Then, for each row, the nested for loop goes through each cell in that row."
   ]
  },
  {
   "cell_type": "code",
   "execution_count": 48,
   "metadata": {},
   "outputs": [
    {
     "data": {
      "text/plain": [
       "((<Cell Fisher's Iris Data.A1>,\n",
       "  <Cell Fisher's Iris Data.B1>,\n",
       "  <Cell Fisher's Iris Data.C1>,\n",
       "  <Cell Fisher's Iris Data.D1>),\n",
       " (<Cell Fisher's Iris Data.A2>,\n",
       "  <Cell Fisher's Iris Data.B2>,\n",
       "  <Cell Fisher's Iris Data.C2>,\n",
       "  <Cell Fisher's Iris Data.D2>),\n",
       " (<Cell Fisher's Iris Data.A3>,\n",
       "  <Cell Fisher's Iris Data.B3>,\n",
       "  <Cell Fisher's Iris Data.C3>,\n",
       "  <Cell Fisher's Iris Data.D3>),\n",
       " (<Cell Fisher's Iris Data.A4>,\n",
       "  <Cell Fisher's Iris Data.B4>,\n",
       "  <Cell Fisher's Iris Data.C4>,\n",
       "  <Cell Fisher's Iris Data.D4>))"
      ]
     },
     "execution_count": 48,
     "metadata": {},
     "output_type": "execute_result"
    }
   ],
   "source": [
    "import openpyxl\n",
    "\n",
    "filename = './iris_data.xlsx'\n",
    "wb = openpyxl.load_workbook(filename)\n",
    "\n",
    "sheet = wb.get_sheet_by_name(\"Fisher's Iris Data\")\n",
    "tuple(sheet['A1':'D4'])"
   ]
  },
  {
   "cell_type": "code",
   "execution_count": 49,
   "metadata": {},
   "outputs": [
    {
     "name": "stdout",
     "output_type": "stream",
     "text": [
      "A1 Sepal length\n",
      "B1 Sepal width\n",
      "C1 Petal length\n",
      "D1 Petal width\n",
      "---------\n",
      "A2 5.1\n",
      "B2 3.5\n",
      "C2 1.4\n",
      "D2 0.2\n",
      "---------\n",
      "A3 4.9\n",
      "B3 3\n",
      "C3 1.4\n",
      "D3 0.2\n",
      "---------\n",
      "A4 4.7\n",
      "B4 3.2\n",
      "C4 1.3\n",
      "D4 0.2\n",
      "---------\n"
     ]
    }
   ],
   "source": [
    "import openpyxl\n",
    "\n",
    "filename = './iris_data.xlsx'\n",
    "wb = openpyxl.load_workbook(filename)\n",
    "\n",
    "sheet = wb.get_sheet_by_name(\"Fisher's Iris Data\")\n",
    "\n",
    "for rowOfCellObjects in sheet['A1':'D4']:\n",
    "    for cellObj in rowOfCellObjects:\n",
    "        print(cellObj.coordinate, cellObj.value)\n",
    "    print('---------')"
   ]
  },
  {
   "cell_type": "markdown",
   "metadata": {},
   "source": [
    "To access the values of cells in a particular row or column, you can also use a Worksheet object’s rows and columns attribute. \n",
    "\n",
    "Using the `rows` attribute on a Worksheet object will give you a sequence of tuples. Each of these inner tuples represents a row, and contains the Cell objects in that row. The `columns` attribute also gives you a sequence of tuples, with each of the inner tuples containing the Cell objects in a particular column.\n",
    "\n",
    "To access one particular tuple, you can refer to it by its index in the larger tuple. Once you have a tuple representing one row or column, you can loop through its Cell objects and print their values."
   ]
  },
  {
   "cell_type": "code",
   "execution_count": 7,
   "metadata": {},
   "outputs": [
    {
     "name": "stdout",
     "output_type": "stream",
     "text": [
      "Sepal width\n",
      "3.5\n",
      "3\n",
      "3.2\n",
      "3.1\n",
      "3.6\n",
      "3.9\n",
      "3.4\n",
      "3.4\n",
      "2.9\n",
      "3.1\n",
      "3.7\n",
      "3.4\n",
      "3\n",
      "3\n",
      "4\n",
      "4.4\n",
      "3.9\n",
      "3.5\n",
      "3.8\n",
      "3.8\n",
      "3.4\n",
      "3.7\n",
      "3.6\n",
      "3.3\n",
      "3.4\n",
      "3\n",
      "3.4\n",
      "3.5\n",
      "3.4\n",
      "3.2\n",
      "3.1\n",
      "3.4\n",
      "4.1\n",
      "4.2\n",
      "3.1\n",
      "3.2\n",
      "3.5\n",
      "3.6\n",
      "3\n",
      "3.4\n",
      "3.5\n",
      "2.3\n",
      "3.2\n",
      "3.5\n",
      "3.8\n",
      "3\n",
      "3.8\n",
      "3.2\n",
      "3.7\n",
      "3.3\n",
      "3.2\n",
      "3.2\n",
      "3.1\n",
      "2.3\n",
      "2.8\n",
      "2.8\n",
      "3.3\n",
      "2.4\n",
      "2.9\n",
      "2.7\n",
      "2\n",
      "3\n",
      "2.2\n",
      "2.9\n",
      "2.9\n",
      "3.1\n",
      "3\n",
      "2.7\n",
      "2.2\n",
      "2.5\n",
      "3.2\n",
      "2.8\n",
      "2.5\n",
      "2.8\n",
      "2.9\n",
      "3\n",
      "2.8\n",
      "3\n",
      "2.9\n",
      "2.6\n",
      "2.4\n",
      "2.4\n",
      "2.7\n",
      "2.7\n",
      "3\n",
      "3.4\n",
      "3.1\n",
      "2.3\n",
      "3\n",
      "2.5\n",
      "2.6\n",
      "3\n",
      "2.6\n",
      "2.3\n",
      "2.7\n",
      "3\n",
      "2.9\n",
      "2.9\n",
      "2.5\n",
      "2.8\n",
      "3.3\n",
      "2.7\n",
      "3\n",
      "2.9\n",
      "3\n",
      "3\n",
      "2.5\n",
      "2.9\n",
      "2.5\n",
      "3.6\n",
      "3.2\n",
      "2.7\n",
      "3\n",
      "2.5\n",
      "2.8\n",
      "3.2\n",
      "3\n",
      "3.8\n",
      "2.6\n",
      "2.2\n",
      "3.2\n",
      "2.8\n",
      "2.8\n",
      "2.7\n",
      "3.3\n",
      "3.2\n",
      "2.8\n",
      "3\n",
      "2.8\n",
      "3\n",
      "2.8\n",
      "3.8\n",
      "2.8\n",
      "2.8\n",
      "2.6\n",
      "3\n",
      "3.4\n",
      "3.1\n",
      "3\n",
      "3.1\n",
      "3.1\n",
      "3.1\n",
      "2.7\n",
      "3.2\n",
      "3.3\n",
      "3\n",
      "2.5\n",
      "3\n",
      "3.4\n",
      "3\n"
     ]
    }
   ],
   "source": [
    "for cellObj in list(sheet.columns)[1]:\n",
    "    print(cellObj.value)"
   ]
  },
  {
   "cell_type": "markdown",
   "metadata": {},
   "source": [
    "#### Converting Between Column Letters and Numbers\n",
    "\n",
    "To convert from letters to numbers, call the `openpyxl.utils.column_index_from _string()` function. To convert from numbers to letters, call the `openpyxl.utils.get_column_letter()` function."
   ]
  },
  {
   "cell_type": "code",
   "execution_count": null,
   "metadata": {
    "collapsed": true
   },
   "outputs": [],
   "source": [
    "import openpyxl.utils as exutil\n",
    "\n",
    "columns = ['A', 'B', 'C', 'D', 'E']\n",
    "rows_idx = list(range(1, 152))\n",
    "\n",
    "header = []\n",
    "for column_name in columns:\n",
    "    idx = column_name + '1'\n",
    "    header.append(sheet[idx].value)\n",
    "\n",
    "col_values = []\n",
    "for column_name in columns:\n",
    "    col_idx = exutil.column_index_from_string(column_name) - 1\n",
    "    column = []\n",
    "    for cell in list(sheet.columns)[col_idx][1:]:\n",
    "        column.append(cell.value)\n",
    "    \n",
    "    col_values.append(column)\n",
    "    \n",
    "print(len(col_values))"
   ]
  },
  {
   "cell_type": "markdown",
   "metadata": {},
   "source": [
    "# Exercise!!!\n",
    "\n",
    "![image](http://innov8tiv.com/wp-content/uploads/2015/02/life-of-programmer-1.gif)\n",
    "\n",
    "  1. Write a program that converts the Excel spreadsheet `./iris_data.xlsx` into a CSV file with the same data. Start with writing a unit test against which you implement your solution.\n",
    "  2. Write a program, which converts `befkbhalderstatkode.csv` from a CSV file into a Python module `kkdata.py` containing a dictionary named `STATISTICS`.\n",
    "\n",
    "  ```python\n",
    "\n",
    "  STATISTICS = {\n",
    "      2015: {\n",
    "          1: {\n",
    "              0: {\n",
    "                 5100: 614,\n",
    "                 5104: 2,\n",
    "                 5106: 1,\n",
    "                 ...\n",
    "              },\n",
    "              1: {\n",
    "                  5100: 485,\n",
    "                  5110: 1,\n",
    "                  5115, 1,\n",
    "                  ...\n",
    "              },\n",
    "              2: {\n",
    "                  ...\n",
    "              },\n",
    "              ...\n",
    "          },\n",
    "          2: {\n",
    "              ...\n",
    "          },\n",
    "          3: {\n",
    "              ...\n",
    "          },\n",
    "          ...\n",
    "      },\n",
    "      2014: {\n",
    "          ...\n",
    "      },\n",
    "      ...\n",
    "  }\n",
    "  ```\n",
    "  To be sure that the generated code is complete and correct, start with writing a **unit test**, which iterates over the CSV data and checks that the corresponding data exists in the dictionary.\n",
    "  \n",
    "  ```python\n",
    "  import kkdata\n",
    "    \n",
    "  f = './befkbhalderstatkode.csv'\n",
    "  \n",
    "  reader = csv.reader(f)\n",
    "  header_row = next(reader)\n",
    "  for row in reader:\n",
    "      data.append(row)\n",
    "      \n",
    "      assert kkdata.STATISTICS[row[0]][row[1]][row[2]][row[3]] == [row[4]]\n",
    "  ```\n",
    "  **Hint**: You can use `pprint`'s `pformat` function to dump a dictionary into a string that an be used directly in a Python program. For example, when writing the file:\n",
    "\n",
    "  ```python\n",
    "  with open('./kkdata.py', 'w') as out_file:\n",
    "      out_file.write('STATISTICS =' + pprint.pformat(new_data_dict))\n",
    "  ```"
   ]
  }
 ],
 "metadata": {
  "kernelspec": {
   "display_name": "Python 3",
   "language": "python",
   "name": "python3"
  },
  "language_info": {
   "codemirror_mode": {
    "name": "ipython",
    "version": 3
   },
   "file_extension": ".py",
   "mimetype": "text/x-python",
   "name": "python",
   "nbconvert_exporter": "python",
   "pygments_lexer": "ipython3",
   "version": "3.6.4"
  }
 },
 "nbformat": 4,
 "nbformat_minor": 2
}
