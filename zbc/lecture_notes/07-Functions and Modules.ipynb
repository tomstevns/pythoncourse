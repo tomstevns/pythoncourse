{
 "cells": [
  {
   "cell_type": "markdown",
   "metadata": {},
   "source": [
    "# Defining a Function\n",
    "\n",
    "\n",
    "You are already familiar with the `print()`, `sort()` and `len()` functions from the previous sessions. Python provides several built-in functions like these, but you can also write your own functions. A function is like a mini-program within a program.\n",
    "\n",
    "If you need to perform that task multiple times throughout your program, you do not need to type all the code for the same task again and again; you just call the function dedicated to handling that task, and the call tells Python to run the code inside the function. You will find that using functions makes your programs easier to write, read, test, and  x."
   ]
  },
  {
   "cell_type": "code",
   "execution_count": 1,
   "metadata": {},
   "outputs": [
    {
     "name": "stdout",
     "output_type": "stream",
     "text": [
      "Call me Ishmael.\n"
     ]
    }
   ],
   "source": [
    "def print_sentence():\n",
    "    \"\"\"Display the first sentence of Moby Dick\"\"\"\n",
    "    \n",
    "    fst_sentence = 'Call me Ishmael.'\n",
    "    print(fst_sentence)\n",
    "    \n",
    "print_sentence()"
   ]
  },
  {
   "cell_type": "markdown",
   "metadata": {},
   "source": [
    "This example shows the simplest structure of a function. The first line uses the keyword `def` to inform the Python interpreter, that you are defining a function. This is the *function definition*, which tells the interpreter the name of the function and, if applicable, what kind of information the function needs to do its job. The parentheses hold that information, the *arguments*. In this case, the name of the function\n",
    "is `print_sentence()`, and it needs no information to do its job, so its parentheses are empty, there are no arguments. (Even so, the parentheses are required.) Finally, the definition ends in a colon.\n",
    "\n",
    "Any indented lines that follow `def print_sentence():` make up the *body of the function*. The text in `\"\"\" \"\"\"` is a comment called a *docstring*, which describes what the function does. Docstrings are enclosed in triple quotes, which Python looks for when it generates documentation for the functions in your programs.\n",
    "\n",
    "The lines: \n",
    "\n",
    "```python\n",
    "    fst_sentence = 'Call me Ishmael.'\n",
    "    print(fst_sentence)\n",
    "```\n",
    "\n",
    "are the only lines of actual code in the body of this function, so `print_sentence()` has just one job, it prints the first sentence of Moby Dick.\n",
    "\n",
    "When you want to use this function, you call it. A *function call* tells Python to execute the code in the function. To call a function, you write the name of the function, followed by any necessary arguments in parentheses. Because no information is needed here, calling our function is as simple as entering `print_sentence()`."
   ]
  },
  {
   "cell_type": "markdown",
   "metadata": {},
   "source": [
    "## Passing Information to a Function via Arguments\n",
    "\n",
    "### Arguments and Parameters\n",
    "In the following example, `modify_sentence(name)` requires a value for the variable `name`. Once we called the function and gave it the information -a person’s name-, it prints a modified sentence.\n",
    "\n",
    "The variable `name` in the definition of `modify_sentence(name)` is an example of a *parameter*, a piece of information the function needs to do its job. The value `'Ahab'` in `modify_sentence('Ahab')` is an example of an argument. An argument is a piece of information that is passed from a function call to a function. When we call the function, we place the value we want the function to work with in parentheses. In this case the argument `'Ahab'` was passed to the function `modify_sentence(name)`, and the value was stored in the parameter `name`.\n",
    "\n",
    "Note, people sometimes speak of arguments and parameters interchangeably.\n"
   ]
  },
  {
   "cell_type": "code",
   "execution_count": 4,
   "metadata": {},
   "outputs": [
    {
     "name": "stdout",
     "output_type": "stream",
     "text": [
      "Call me Ahab.\n"
     ]
    }
   ],
   "source": [
    "def modify_sentence(name):\n",
    "    \"\"\"Display a modified first sentence of Moby Dick\n",
    "\n",
    "    :param name: str\n",
    "        Name to insert in the sentence.\n",
    "    \"\"\"\n",
    "    \n",
    "    fst_sentence = 'Call me ' + name + '.'\n",
    "    print(fst_sentence)\n",
    "    \n",
    "modify_sentence('Ahab')"
   ]
  },
  {
   "cell_type": "markdown",
   "metadata": {},
   "source": [
    "### Positional Arguments\n",
    "\n",
    "When you call a function, Python must match each argument in the function call with a parameter in the function definition. The simplest way to do this is based on the order of the arguments provided. Values matched up this way are called *positional arguments*.\n",
    "\n",
    "Consequently, you can get unexpected results if you mix up the order of the arguments in a function call when using positional arguments."
   ]
  },
  {
   "cell_type": "code",
   "execution_count": 20,
   "metadata": {},
   "outputs": [
    {
     "name": "stdout",
     "output_type": "stream",
     "text": [
      "1.25\n"
     ]
    }
   ],
   "source": [
    "def apply_division(a, b):\n",
    "    \"\"\"Divide a by b\n",
    "\n",
    "    :param a: number\n",
    "        Dividend of devision operation.\n",
    "        \n",
    "    :param b: number\n",
    "        Divisor of devision operation.\n",
    "    \"\"\"\n",
    "    result = a / b\n",
    "    print(result)\n",
    "    \n",
    "apply_division(5, 4)"
   ]
  },
  {
   "cell_type": "markdown",
   "metadata": {},
   "source": [
    "### Keyword Arguments\n",
    "\n",
    "*Keyword arguments* are name-value pairs that you pass to a function. You directly associate the name and the value within the argument, so when you pass the argument to the function, there is no confusion. Keyword arguments free you from having to worry about correctly ordering your arguments in the function call, and they clarify the role of each value in the function call."
   ]
  },
  {
   "cell_type": "code",
   "execution_count": 26,
   "metadata": {},
   "outputs": [
    {
     "name": "stdout",
     "output_type": "stream",
     "text": [
      "1.25\n",
      "1.25\n"
     ]
    }
   ],
   "source": [
    "def apply_division(dividend, divisor):\n",
    "    result = dividend / divisor\n",
    "    print(result)\n",
    "    \n",
    "apply_division(dividend=5, divisor=4)\n",
    "apply_division(divisor=4, dividend=5)"
   ]
  },
  {
   "cell_type": "markdown",
   "metadata": {},
   "source": [
    "### Default Values\n",
    "\n",
    "When writing a function, you can define a default value for each parameter. If an argument for a parameter is provided in the function call, Python uses the argument value. If not, it uses the parameter’s default value. So when you define a default value for a parameter, you can exclude the corresponding argument you would usually write in the function call. Using default values can simplify your function calls and clarify the ways in which your functions are typically used.\n",
    "\n",
    "**OBS!** When you use default values, any parameter with a default value needs to be listed after all the parameters that do not have default values. This allows Python to continue interpreting positional arguments correctly."
   ]
  },
  {
   "cell_type": "code",
   "execution_count": 7,
   "metadata": {},
   "outputs": [
    {
     "name": "stdout",
     "output_type": "stream",
     "text": [
      "1.25\n"
     ]
    }
   ],
   "source": [
    "def apply_division(dividend, divisor=2):\n",
    "    result = dividend / divisor\n",
    "    print(result)\n",
    "    \n",
    "apply_division(5, 4)"
   ]
  },
  {
   "cell_type": "markdown",
   "metadata": {},
   "source": [
    "### Equivalent Function Calls\n",
    "\n",
    "Because positional arguments, keyword arguments, and default values can all be used together, often you will have several equivalent ways to call a function. Consider the following:"
   ]
  },
  {
   "cell_type": "code",
   "execution_count": 31,
   "metadata": {},
   "outputs": [
    {
     "name": "stdout",
     "output_type": "stream",
     "text": [
      "2.5\n",
      "2.5\n",
      "1.25\n",
      "1.25\n",
      "1.25\n"
     ]
    }
   ],
   "source": [
    "def apply_division(dividend, divisor=2):\n",
    "    result = dividend / divisor\n",
    "    print(result)\n",
    "    \n",
    "apply_division(5)\n",
    "apply_division(dividend=5)\n",
    "\n",
    "apply_division(5, 4)\n",
    "apply_division(dividend=5, divisor=4)\n",
    "apply_division(divisor=4, dividend=5)"
   ]
  },
  {
   "cell_type": "markdown",
   "metadata": {},
   "source": [
    "### Argument Errors\n",
    "\n",
    "When you start to use functions, do not be surprised if you encounter errors about unmatched arguments. Unmatched arguments occur when you provide fewer or more arguments than a function needs to do its work."
   ]
  },
  {
   "cell_type": "code",
   "execution_count": 8,
   "metadata": {},
   "outputs": [
    {
     "ename": "TypeError",
     "evalue": "apply_division() missing 1 required positional argument: 'dividend'",
     "output_type": "error",
     "traceback": [
      "\u001b[0;31m---------------------------------------------------------------------------\u001b[0m",
      "\u001b[0;31mTypeError\u001b[0m                                 Traceback (most recent call last)",
      "\u001b[0;32m<ipython-input-8-e9058f67fdcd>\u001b[0m in \u001b[0;36m<module>\u001b[0;34m()\u001b[0m\n\u001b[1;32m      3\u001b[0m     \u001b[0mprint\u001b[0m\u001b[0;34m(\u001b[0m\u001b[0mresult\u001b[0m\u001b[0;34m)\u001b[0m\u001b[0;34m\u001b[0m\u001b[0m\n\u001b[1;32m      4\u001b[0m \u001b[0;34m\u001b[0m\u001b[0m\n\u001b[0;32m----> 5\u001b[0;31m \u001b[0mapply_division\u001b[0m\u001b[0;34m(\u001b[0m\u001b[0;34m)\u001b[0m\u001b[0;34m\u001b[0m\u001b[0m\n\u001b[0m",
      "\u001b[0;31mTypeError\u001b[0m: apply_division() missing 1 required positional argument: 'dividend'"
     ]
    }
   ],
   "source": [
    "def apply_division(dividend, divisor=2):\n",
    "    result = dividend / divisor\n",
    "    print(result)\n",
    "    \n",
    "apply_division()"
   ]
  },
  {
   "cell_type": "markdown",
   "metadata": {},
   "source": [
    "# `return` Values\n",
    "\n",
    "A function does not always have to display its output directly. Instead, it can process some data and then return a value or set of values. The value the function returns is called a return value. The return statement takes a value from inside a function and sends it back to the line that called the function. Return values allow you to move much of your program’s grunt work into functions, which can simplify the body of your program.\n",
    "\n",
    "A function can return any kind of value you need it to, including more com- plicated data structures like lists and dictionaries."
   ]
  },
  {
   "cell_type": "code",
   "execution_count": 11,
   "metadata": {},
   "outputs": [
    {
     "data": {
      "text/plain": [
       "'Call me Ahab.'"
      ]
     },
     "execution_count": 11,
     "metadata": {},
     "output_type": "execute_result"
    }
   ],
   "source": [
    "def modify_sentence(name):\n",
    "    \"\"\"Construct a modified first sentence of Moby Dick\n",
    "\n",
    "    :param name: str\n",
    "        Name to insert in the sentence.\n",
    "        \n",
    "    :return: str\n",
    "        The modified first sentence.\n",
    "    \"\"\"\n",
    "    \n",
    "    fst_sentence = 'Call me ' + name + '.'\n",
    "    return fst_sentence\n",
    "    \n",
    "result = modify_sentence('Ahab')\n",
    "result"
   ]
  },
  {
   "cell_type": "code",
   "execution_count": 36,
   "metadata": {},
   "outputs": [
    {
     "data": {
      "text/plain": [
       "['Call', 'me', 'Ahab.']"
      ]
     },
     "execution_count": 36,
     "metadata": {},
     "output_type": "execute_result"
    }
   ],
   "source": [
    "def modify_sentence(name):\n",
    "    \"\"\"Construct a modified first sentence of Moby Dick\n",
    "\n",
    "    :param name: str\n",
    "        Name to insert in the sentence.\n",
    "        \n",
    "    :return: list\n",
    "        The modified first sentence as a list of words.\n",
    "    \"\"\"\n",
    "    \n",
    "    fst_sentence = 'Call me ' + name + '.'\n",
    "    return fst_sentence.split()\n",
    "    \n",
    "result = modify_sentence('Ahab')\n",
    "result"
   ]
  },
  {
   "cell_type": "markdown",
   "metadata": {},
   "source": [
    "# Passing an Arbitrary Number of Arguments\n",
    "\n",
    "Sometimes you won’t know ahead of time how many arguments a function needs to accept. Fortunately, Python allows a function to collect an arbitrary number of arguments from the calling statement."
   ]
  },
  {
   "cell_type": "code",
   "execution_count": 38,
   "metadata": {},
   "outputs": [
    {
     "name": "stdout",
     "output_type": "stream",
     "text": [
      "- Ahab\n",
      "- Ahab\n",
      "- Ishmael\n",
      "- Queequeg\n"
     ]
    }
   ],
   "source": [
    "def hire_crew(*sailors):\n",
    "    \"\"\"Print the list of hired crew members.\"\"\"\n",
    "    \n",
    "    for sailor in sailors:\n",
    "        print('- ' + sailor)\n",
    "\n",
    "hire_crew('Ahab')\n",
    "hire_crew('Ahab', 'Ishmael', 'Queequeg')"
   ]
  },
  {
   "cell_type": "markdown",
   "metadata": {},
   "source": [
    "## Mixing Positional and Arbitrary Arguments\n",
    "\n",
    "If you want a function to accept several different kinds of arguments, the parameter that accepts an arbitrary number of arguments must be placed last in the function de nition. Python matches positional and keyword arguments  rst and then collects any remaining arguments in the  nal parameter."
   ]
  },
  {
   "cell_type": "code",
   "execution_count": 43,
   "metadata": {},
   "outputs": [
    {
     "data": {
      "text/plain": [
       "['Ahab', 'Ishmael', 'Queequeg']"
      ]
     },
     "execution_count": 43,
     "metadata": {},
     "output_type": "execute_result"
    }
   ],
   "source": [
    "def hire_crew(amount, *sailors):\n",
    "    \"\"\"Checks the list of hired crew members.\"\"\"\n",
    "    members = []\n",
    "    if amount != len(sailors):\n",
    "        return False\n",
    "    for sailor in sailors:\n",
    "        members.append(sailor)\n",
    "    return members\n",
    "\n",
    "hire_crew(1, 'Ahab')\n",
    "hire_crew(3, 'Ahab', 'Ishmael', 'Queequeg')"
   ]
  },
  {
   "cell_type": "markdown",
   "metadata": {},
   "source": [
    "## Using Arbitrary Keyword Arguments\n",
    "\n",
    "Sometimes you will want to accept an arbitrary number of arguments, but you won’t know ahead of time what kind of information will be passed to the function. In this case, you can write functions that accept as many key-value pairs as the calling statement provides. One example involves building user profiles: you know you will get information about a user, but you are not sure what kind of information you’ll receive. The function `build_profile()` in the following example always takes in a first and last name, but it accepts an arbitrary number of keyword arguments as well.\n",
    "\n",
    "The de nition of build_profile() expects a  rst and last name, and then it allows the user to pass in as many name-value pairs as they want. The double asterisks before the parameter `**user_info` cause Python to create an empty dictionary called user_info and pack whatever name-value pairs it receives into this dictionary. Within the function, you can access the name-value pairs in `user_info` just as you would for any dictionary."
   ]
  },
  {
   "cell_type": "code",
   "execution_count": 44,
   "metadata": {
    "scrolled": true
   },
   "outputs": [
    {
     "name": "stdout",
     "output_type": "stream",
     "text": [
      "{'first_name': 'albert', 'field': 'physics', 'last_name': 'einstein', 'location': 'princeton'}\n"
     ]
    }
   ],
   "source": [
    "def build_profile(first, last, **user_info):\n",
    "    \"\"\"Build a dictionary containing everything we know about a user.\"\"\"\n",
    "    profile = {}\n",
    "    profile['first_name'] = first\n",
    "    profile['last_name'] = last\n",
    "    for key, value in user_info.items():\n",
    "        profile[key] = value\n",
    "    return profile\n",
    "\n",
    "user_profile = build_profile('albert', 'einstein',\n",
    "                             location='princeton',\n",
    "                             field='physics')\n",
    "print(user_profile)"
   ]
  },
  {
   "cell_type": "markdown",
   "metadata": {},
   "source": [
    "# Modules\n",
    "\n",
    "One advantage of functions is the way they separate blocks of code from your main program. By using descriptive names for your functions, your main program will be much easier to follow. You can go a step further by storing your functions in a separate file called a module and then importing that module into your main program. An import statement tells Python to make the code in a module available in the currently running program file.\n",
    "\n",
    "Storing your functions in a separate file allows you to hide the details of your program’s code and focus on its higher-level logic. It also allows you to reuse functions in many different programs. When you store your functions in separate files, you can share those files with other programmers without having to share your entire program. Knowing how to `import` functions also allows you to use libraries of functions that other programmers have written.\n",
    "\n",
    "## Importing an Entire Module\n",
    "\n",
    "To start importing functions, we first need to create a module. A module is a file ending in `.py` that contains the code you want to import into your program.\n",
    "\n",
    "To call a function from an imported module, enter the name of the module you imported followed by the name of the function separated by a dot.\n",
    "\n",
    "In the following examples, we import entire modules, which makes every function from the module available in your program."
   ]
  },
  {
   "cell_type": "code",
   "execution_count": 1,
   "metadata": {
    "collapsed": true
   },
   "outputs": [],
   "source": [
    "import os\n",
    "\n",
    "# Get help on a module\n",
    "os?\n",
    "\n",
    "os.makedirs?\n",
    "\n",
    "os.makedirs('./test_dir')"
   ]
  },
  {
   "cell_type": "markdown",
   "metadata": {},
   "source": [
    "Let's have a look into the `os` module.\n",
    "\n",
    "On the command line:\n",
    "\n",
    "  * `which python` tells you where your Python is installed, it says something like `/path/to/anaconda3/bin/python`\n",
    "  * open with your editor the file `/path/to/lib/python3.6/os.py`\n",
    "  * navigate to line 195\n",
    "  \n",
    "Inspect what is going on in this function."
   ]
  },
  {
   "cell_type": "code",
   "execution_count": 35,
   "metadata": {},
   "outputs": [
    {
     "name": "stdout",
     "output_type": "stream",
     "text": [
      "0 5\n",
      "1 1\n",
      "2 5\n",
      "3 2\n",
      "4 2\n",
      "5 2\n",
      "6 5\n",
      "7 3\n",
      "8 4\n",
      "9 6\n"
     ]
    }
   ],
   "source": [
    "import random\n",
    "\n",
    "\n",
    "for idx in range(0,10):\n",
    "    dice = random.choice([1, 2, 3, 4, 5, 6])\n",
    "    print(idx, dice)"
   ]
  },
  {
   "cell_type": "markdown",
   "metadata": {},
   "source": [
    "### Module Aliases\n",
    "\n",
    "You can also provide an alias for a module name. Giving a module a short alias.\n",
    "\n",
    "Calling the functions via a module alias is not only more concise it also redirects your attention from the module name and allows you to focus on the descriptive names of the functions. The function names, which clearly tell you what each function does, are more important to the readability of your code than using the full module name.\n",
    "\n",
    "The general syntax for this approach is:\n",
    "\n",
    "```python\n",
    "import module_name as mn\n",
    "```"
   ]
  },
  {
   "cell_type": "code",
   "execution_count": 43,
   "metadata": {},
   "outputs": [
    {
     "data": {
      "text/plain": [
       "2"
      ]
     },
     "execution_count": 43,
     "metadata": {},
     "output_type": "execute_result"
    }
   ],
   "source": [
    "import random as r\n",
    "\n",
    "r.choice([1, 2, 3, 4, 5, 6])"
   ]
  },
  {
   "cell_type": "markdown",
   "metadata": {},
   "source": [
    "### Importing All Functions in a Module\n",
    "\n",
    "You can tell Python to import every function in a module by using the asterisk (`*`) operator.\n",
    "   \n",
    "The asterisk in the `import` statement tells Python to copy every function from the module into this program file. Because every function is imported, you can call each function by name without using the dot notation. However, it is best not to use this approach when you are working with larger modules that you did not write yourself: if the module has a function name that matches an existing name in your project, you can get some unexpected results. Python may see several functions or variables with the same name, and instead of importing all the functions separately, it will overwrite the functions.\n",
    "\n",
    "The best approach is to import the function or functions you want, or import the entire module and use the dot notation. This leads to clear code that is easy to read and understand. I include this section so you will recognize `import` statements like the following when you see them in other people’s code:\n",
    "\n",
    "```python\n",
    "from module_name import *\n",
    "```"
   ]
  },
  {
   "cell_type": "code",
   "execution_count": 47,
   "metadata": {},
   "outputs": [
    {
     "name": "stdout",
     "output_type": "stream",
     "text": [
      "3.141592653589793\n",
      "-1.0\n"
     ]
    }
   ],
   "source": [
    "from math import *\n",
    "\n",
    "print(pi)\n",
    "print(cos(pi))"
   ]
  },
  {
   "cell_type": "markdown",
   "metadata": {},
   "source": [
    "## Importing Specific Functions\n",
    "\n",
    "You can also import a specific function from a module. Here’s the general syntax for this approach:\n",
    "\n",
    "```python\n",
    "from module_name import function_name\n",
    "```\n",
    "\n",
    "You can import as many functions as you want from a module by separating each function’s name with a comma:\n",
    "\n",
    "```python\n",
    "from module_name import function_0, function_1, function_2\n",
    "```"
   ]
  },
  {
   "cell_type": "code",
   "execution_count": 36,
   "metadata": {},
   "outputs": [
    {
     "data": {
      "text/plain": [
       "4"
      ]
     },
     "execution_count": 36,
     "metadata": {},
     "output_type": "execute_result"
    }
   ],
   "source": [
    "from random import choice\n",
    "\n",
    "choice([1, 2, 3, 4, 5, 6])"
   ]
  },
  {
   "cell_type": "code",
   "execution_count": 41,
   "metadata": {},
   "outputs": [
    {
     "data": {
      "text/plain": [
       "22"
      ]
     },
     "execution_count": 41,
     "metadata": {},
     "output_type": "execute_result"
    }
   ],
   "source": [
    "from random import choice, randrange\n",
    "\n",
    "end = choice([10, 20, 30, 40, 50, 60])\n",
    "# Choose a random item from range(start, stop[, step]).\n",
    "randrange(1, end)"
   ]
  },
  {
   "cell_type": "markdown",
   "metadata": {},
   "source": [
    "With this syntax, you do not need to use the dot notation when you call a function. Because we have explicitly imported the function in the `import` statement, we can call it by name when we use the function.\n",
    "\n",
    "However, using the full name makes for more readable code, so it is better to use the normal form of the import statement."
   ]
  },
  {
   "cell_type": "markdown",
   "metadata": {},
   "source": [
    "### Function Aliases\n",
    "\n",
    "If the name of a function you are importing might conflict with an existing name in your program or if the function name is long, you can use a short, unique alias —an alternate name similar to a nickname for the function. You will give the function this special nickname when you import the function.\n",
    "\n",
    "The general syntax for providing an alias is:\n",
    "\n",
    "```python \n",
    "from module_name import function_name as fn\n",
    "```"
   ]
  },
  {
   "cell_type": "code",
   "execution_count": 77,
   "metadata": {},
   "outputs": [
    {
     "data": {
      "text/plain": [
       "2"
      ]
     },
     "execution_count": 77,
     "metadata": {},
     "output_type": "execute_result"
    }
   ],
   "source": [
    "from random import choice as ch\n",
    "from random import randrange as rr\n",
    "\n",
    "end = ch([10, 20, 30, 40, 50, 60])\n",
    "rr(1, end)"
   ]
  },
  {
   "cell_type": "code",
   "execution_count": 14,
   "metadata": {
    "collapsed": true
   },
   "outputs": [],
   "source": [
    "# This is only necessary in the notebook, when you want to reload \n",
    "# modules on which you are working\n",
    "%load_ext autoreload"
   ]
  },
  {
   "cell_type": "code",
   "execution_count": 68,
   "metadata": {},
   "outputs": [
    {
     "name": "stdout",
     "output_type": "stream",
     "text": [
      "Downloading file to ./2701-0.txt\n"
     ]
    }
   ],
   "source": [
    "%autoreload 2\n",
    "\n",
    "import webget\n",
    "\n",
    "moby_dick_url = 'http://www.gutenberg.org/files/2701/2701-0.txt'\n",
    "bones_in_london_url = 'http://www.gutenberg.org/cache/epub/27525/pg27525.txt'\n",
    "\n",
    "webget.download(moby_dick_url)"
   ]
  },
  {
   "cell_type": "code",
   "execution_count": 75,
   "metadata": {},
   "outputs": [
    {
     "name": "stdout",
     "output_type": "stream",
     "text": [
      "URMPF\n"
     ]
    }
   ],
   "source": [
    "from urllib.parse import urlparse\n",
    "\n",
    "result = urlparse('oioioi')\n",
    "if result.scheme and result.netloc and result.path:\n",
    "    print('Is URL')\n",
    "else:\n",
    "    print('URMPF')"
   ]
  },
  {
   "cell_type": "markdown",
   "metadata": {},
   "source": [
    "# Exercises\n",
    "\n",
    "![image](http://forums.pixeltailgames.com/uploads/default/original/2X/f/f9c0a82e6ada756bc3f549b6a678e79df2cb5e1a.gif)\n",
    "\n",
    "  1. Write a function that iterates through a list and prints each value **without using a loop**. That is, write a recursive function to print the values of a list.\n",
    "  2. Write a module `webget.py` that exposes a function to download a file from the web in case it does not exist locally already. The function shall have the following signature `download(url, to=None)` where the keyword argument `to` specifies where to save a file locally and with which name. If `to == None` then the file shall be saved in the current working directory `./` with the same name as it has at its origin. For example, calling your program as in the following\n",
    "\n",
    "  ```python\n",
    "  import webget\n",
    "\n",
    "  url = 'http://data.kk.dk/dataset/76ecf368-bf2d-46a2-bcf8-adaf37662528/resource/9286af17-f74e-46c9-a428-9fb707542189/download/befkbhalderstatkode.csv'\n",
    "  webget.download(url)\n",
    "  ```\n",
    "\n",
    "  will download the remote file to `./befkbhalderstatkode.csv`.\n",
    "\n",
    "  Likely, you will need functions from the standard library modules `os`, and `urllib`. For example, read the doc strings for the following functions and implement the given function stub with help of them.\n",
    "\n",
    "    * `os.path.isfile?`\n",
    "    * `os.path.join?`\n",
    "    * `os.path.basename?`\n",
    "    * `urllib.parse?` \n",
    "    * `urllib.request.urlretrieve?`\n",
    "  \n",
    "  \n",
    "  ```python\n",
    "  import os\n",
    "  import urllib.request as req\n",
    "  from urllib.parse import urlparse\n",
    "  \n",
    "  \n",
    "  def download(url, to=None):\n",
    "      \"\"\"Download a remote file specified by a URL to a \n",
    "      local directory.\n",
    "  \n",
    "      :param url: str\n",
    "          URL pointing to a remote file.\n",
    "          \n",
    "      :param to: str\n",
    "          Local path, absolute or relative, with a filename \n",
    "          to the file storing the contents of the remote file.\n",
    "      \"\"\"\n",
    "    \n",
    "      # TODO: Implement me!\n",
    "      pass\n",
    "  ```\n",
    "  "
   ]
  },
  {
   "cell_type": "code",
   "execution_count": null,
   "metadata": {
    "collapsed": true
   },
   "outputs": [],
   "source": []
  }
 ],
 "metadata": {
  "kernelspec": {
   "display_name": "Python 3",
   "language": "python",
   "name": "python3"
  },
  "language_info": {
   "codemirror_mode": {
    "name": "ipython",
    "version": 3
   },
   "file_extension": ".py",
   "mimetype": "text/x-python",
   "name": "python",
   "nbconvert_exporter": "python",
   "pygments_lexer": "ipython3",
   "version": "3.6.3"
  }
 },
 "nbformat": 4,
 "nbformat_minor": 2
}
