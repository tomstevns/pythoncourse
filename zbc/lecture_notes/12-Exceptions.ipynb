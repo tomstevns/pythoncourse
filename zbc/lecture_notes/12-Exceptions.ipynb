{
 "cells": [
  {
   "cell_type": "markdown",
   "metadata": {},
   "source": [
    "# Exceptions\n",
    "Python uses special objects called exceptions to manage errors that arise during a program’s execution. Whenever an error occurs that makes Python unsure what to do next, it creates an exception object. If you write code that handles the exception, the program will continue running. If you do not handle the exception, the program will halt and show a traceback, which includes a report of the exception that was raised.\n",
    "\n",
    "Exceptions are handled with `try-except` blocks. A `try-except` block asks Python to do something, but it also tells Python what to do if an exception is raised. When you use `try-except` blocks, your programs will continue running even if things start to go wrong. Instead of tracebacks, which can be confusing for users to read, users will see friendly error messages that you write.\n",
    "\n",
    "Let’s look at a simple error that causes Python to raise an exception. You probably know that it’s impossible to divide a number by zero, but let’s ask Python to do it anyway:"
   ]
  },
  {
   "cell_type": "code",
   "execution_count": 1,
   "metadata": {},
   "outputs": [
    {
     "ename": "ZeroDivisionError",
     "evalue": "division by zero",
     "output_type": "error",
     "traceback": [
      "\u001b[0;31m---------------------------------------------------------------------------\u001b[0m",
      "\u001b[0;31mZeroDivisionError\u001b[0m                         Traceback (most recent call last)",
      "\u001b[0;32m<ipython-input-1-ca8321cec4b1>\u001b[0m in \u001b[0;36m<module>\u001b[0;34m()\u001b[0m\n\u001b[0;32m----> 1\u001b[0;31m \u001b[0mprint\u001b[0m\u001b[0;34m(\u001b[0m\u001b[0;36m5\u001b[0m \u001b[0;34m/\u001b[0m \u001b[0;36m0\u001b[0m\u001b[0;34m)\u001b[0m\u001b[0;34m\u001b[0m\u001b[0m\n\u001b[0m",
      "\u001b[0;31mZeroDivisionError\u001b[0m: division by zero"
     ]
    }
   ],
   "source": [
    "print(5 / 0)"
   ]
  },
  {
   "cell_type": "markdown",
   "metadata": {},
   "source": [
    "\n",
    "## Using `try-except` Blocks\n",
    "\n",
    "When you think an error may occur, you can write a try-except block to handle the exception that might be raised. You tell Python to try running some code, and you tell it what to do if the code results in a particular kind of exception."
   ]
  },
  {
   "cell_type": "code",
   "execution_count": 2,
   "metadata": {},
   "outputs": [
    {
     "name": "stdout",
     "output_type": "stream",
     "text": [
      "You can't divide by zero!\n"
     ]
    }
   ],
   "source": [
    "try:\n",
    "    print(5/0)\n",
    "except ZeroDivisionError:\n",
    "    print(\"You can't divide by zero!\")"
   ]
  },
  {
   "cell_type": "markdown",
   "metadata": {},
   "source": [
    "## The `else` Block\n",
    "\n",
    "We can make this program more error resistant by wrapping the line that might produce errors in a `try-except` block. The error occurs on the line that performs the division, so that is where we put the `try-except` block. The follownig example also includes an `else` block. *Any code that depends on the try block executing successfully goes in the `else` block.*\n"
   ]
  },
  {
   "cell_type": "code",
   "execution_count": 35,
   "metadata": {},
   "outputs": [
    {
     "name": "stdout",
     "output_type": "stream",
     "text": [
      "Cannot divide by 0!\n",
      "1.2857142857142858\n",
      "1.5\n",
      "0.4\n",
      "Cannot divide by 0!\n",
      "5.0\n",
      "1.0\n",
      "2.0\n",
      "Cannot divide by 0!\n",
      "0.5\n",
      "1.6666666666666667\n",
      "0.8\n",
      "0.6\n",
      "0.3333333333333333\n",
      "0.2\n",
      "0.25\n",
      "1.0\n",
      "0.8\n",
      "Cannot divide by 0!\n",
      "1.6666666666666667\n"
     ]
    }
   ],
   "source": [
    "import random\n",
    "\n",
    "for i in range(0,20):\n",
    "    try:\n",
    "        result = random.randint(0,10) / random.randint(0,10)\n",
    "    except ZeroDivisionError: \n",
    "        print(\"Cannot divide by 0!\")\n",
    "    else: \n",
    "        print(result)"
   ]
  },
  {
   "cell_type": "markdown",
   "metadata": {},
   "source": [
    "## Multiple Exceptions\n",
    "\n",
    "In case the code in your `try` block can throw different types of exceptions, you can catch them with multiple `except` blocks. In case you need access to the exception object, you can assign it to a variable via the `as` keyword."
   ]
  },
  {
   "cell_type": "code",
   "execution_count": 37,
   "metadata": {},
   "outputs": [
    {
     "name": "stdout",
     "output_type": "stream",
     "text": [
      "[Errno 2] No such file or directory: './Not_There.txt'\n"
     ]
    }
   ],
   "source": [
    "try:\n",
    "    with open('./Not_There.txt') as f_obj:\n",
    "        contents = f_obj.read()\n",
    "    print(5/0)\n",
    "except ZeroDivisionError as e:\n",
    "    print(e)\n",
    "except FileNotFoundError as e:\n",
    "    print(e)\n",
    "else:\n",
    "    print(\"Everything went well...\")"
   ]
  },
  {
   "cell_type": "markdown",
   "metadata": {},
   "source": [
    "Alternatively, you can 'go up in the exception hierarchy' by catching all exceptions as in the following. However, you may no catch errors, that you would have liked to crash your program."
   ]
  },
  {
   "cell_type": "code",
   "execution_count": 39,
   "metadata": {},
   "outputs": [
    {
     "name": "stdout",
     "output_type": "stream",
     "text": [
      "division by zero\n"
     ]
    }
   ],
   "source": [
    "try:\n",
    "    print(5/0)\n",
    "    with open('./Not_There.txt') as f_obj:\n",
    "        contents = f_obj.read()\n",
    "except Exception as e:\n",
    "    print(e)\n",
    "else:\n",
    "    print(\"Everything went well...\")"
   ]
  },
  {
   "cell_type": "markdown",
   "metadata": {},
   "source": [
    "# Raising and Implementing Exceptions\n",
    "\n",
    "In case you need to raise your own exceptions, you can do so with the help of the `raise` keyword. To implement you own Exception you have to implement a subclass of the type of exception that is closest to your new type of error as illustrated in the following."
   ]
  },
  {
   "cell_type": "code",
   "execution_count": 1,
   "metadata": {},
   "outputs": [
    {
     "ename": "NoOneValueError",
     "evalue": "Oha, 1 is not in [2, 7, 8, 10, 'aha']!",
     "output_type": "error",
     "traceback": [
      "\u001b[0;31m---------------------------------------------------------------------------\u001b[0m",
      "\u001b[0;31mNoOneValueError\u001b[0m                           Traceback (most recent call last)",
      "\u001b[0;32m<ipython-input-1-8f6e308d2b86>\u001b[0m in \u001b[0;36m<module>\u001b[0;34m()\u001b[0m\n\u001b[1;32m     10\u001b[0m     \u001b[0mprint\u001b[0m\u001b[0;34m(\u001b[0m\u001b[0;34m'Alright!'\u001b[0m\u001b[0;34m)\u001b[0m\u001b[0;34m\u001b[0m\u001b[0m\n\u001b[1;32m     11\u001b[0m \u001b[0;32melse\u001b[0m\u001b[0;34m:\u001b[0m\u001b[0;34m\u001b[0m\u001b[0m\n\u001b[0;32m---> 12\u001b[0;31m     \u001b[0;32mraise\u001b[0m \u001b[0mNoOneValueError\u001b[0m\u001b[0;34m(\u001b[0m\u001b[0;34m'Oha, {} is not in {}!'\u001b[0m\u001b[0;34m.\u001b[0m\u001b[0mformat\u001b[0m\u001b[0;34m(\u001b[0m\u001b[0mvalue\u001b[0m\u001b[0;34m,\u001b[0m \u001b[0msome_data\u001b[0m\u001b[0;34m)\u001b[0m\u001b[0;34m)\u001b[0m\u001b[0;34m\u001b[0m\u001b[0m\n\u001b[0m",
      "\u001b[0;31mNoOneValueError\u001b[0m: Oha, 1 is not in [2, 7, 8, 10, 'aha']!"
     ]
    }
   ],
   "source": [
    "class NoOneValueError(ValueError):\n",
    "    \n",
    "    def __init__(self, *args, **kwargs):\n",
    "        ValueError.__init__(self, *args, **kwargs)\n",
    "        \n",
    "        \n",
    "value = 1\n",
    "some_data = [2, 7, 8, 10, 'aha']\n",
    "if value in some_data:\n",
    "    print('Alright!')\n",
    "else:\n",
    "    raise NoOneValueError('Oha, {} is not in {}!'.format(value, some_data))"
   ]
  },
  {
   "cell_type": "code",
   "execution_count": null,
   "metadata": {
    "collapsed": true
   },
   "outputs": [],
   "source": []
  }
 ],
 "metadata": {
  "kernelspec": {
   "display_name": "Python 3",
   "language": "python",
   "name": "python3"
  },
  "language_info": {
   "codemirror_mode": {
    "name": "ipython",
    "version": 3
   },
   "file_extension": ".py",
   "mimetype": "text/x-python",
   "name": "python",
   "nbconvert_exporter": "python",
   "pygments_lexer": "ipython3",
   "version": "3.6.3"
  }
 },
 "nbformat": 4,
 "nbformat_minor": 2
}
