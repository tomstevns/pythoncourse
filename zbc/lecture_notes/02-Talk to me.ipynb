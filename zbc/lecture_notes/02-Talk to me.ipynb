{
 "cells": [
  {
   "cell_type": "markdown",
   "metadata": {
    "slideshow": {
     "slide_type": "slide"
    }
   },
   "source": [
    "# Hej ELIZA!\n",
    "\n",
    "\n",
    "This is a version of ELIZA, a famous natural-language AI demo from the 1960s.\n",
    "\n",
    "The program does not have a clue what it is saying and it is not difficult to catch it out, but it is amusing\n",
    "and it means your chatbot always has something to say."
   ]
  },
  {
   "cell_type": "markdown",
   "metadata": {
    "slideshow": {
     "slide_type": "subslide"
    }
   },
   "source": [
    "## An example dialog\n",
    "\n",
    "```\n",
    "Hello. How are you feeling today?\n",
    "> Good.\n",
    "Let's change focus a bit... Tell me about your family.\n",
    "> I like my family.\n",
    "I see.\n",
    "> Yes, they are really nice people.\n",
    "You seem quite sure.\n",
    "> Yes, why should'nt I?\n",
    "You seem quite sure.\n",
    "> Yes, cheese tastes well.\n",
    "You seem quite sure.\n",
    "> Can't you say something else?\n",
    "Why do you ask that?\n",
    "> Why not?\n",
    "Why don't you tell me the reason why not??\n",
    "> I do not have any reason.\n",
    "Please tell me more.\n",
    "> I am just talking to you for no reason.\n",
    "How long have you been just talking to me for no reason?\n",
    "> Perhaps for five minutes.\n",
    "I see.  And what does that tell you?\n",
    "> It tells me, that I am quite good in talking to a machine.\n",
    "How does that make you feel?\n",
    "> Proud! I am a good company for a machine.\n",
    "Why do you say that proud! you are a good company for a machine?\n",
    "> Because I feel like saying that.\n",
    "If you feel like saying that, what else must be true?\n",
    "> Hmm, perhaps that ice cream is cold.\n",
    "Can you elaborate on that?\n",
    "> I mean that ice cream is usually quite cold.\n",
    "Why do you say that you mean that ice cream is usually quite cold?\n",
    "> Because it is true and you were asking for it.\n",
    "What other reasons come to mind?\n",
    "> None.\n",
    "Let's change focus a bit... Tell me about your family.\n",
    "> Again?\n",
    "Please consider whether you can answer your own question.\n",
    "```"
   ]
  },
  {
   "cell_type": "code",
   "execution_count": null,
   "metadata": {
    "slideshow": {
     "slide_type": "subslide"
    }
   },
   "outputs": [],
   "source": [
    "import eliza\n",
    "\n",
    "eliza.talk_to_me()"
   ]
  },
  {
   "cell_type": "markdown",
   "metadata": {
    "slideshow": {
     "slide_type": "slide"
    }
   },
   "source": [
    "## References\n",
    "\n",
    "  * The original paper describing ELIZA is: \n",
    "  J. Weizenbaum, [ELIZA - A Computer Program For the Study of Natural Language Communication Between Man And Machine](http://www.cse.buffalo.edu/~rapaport/572/S02/weizenbaum.eliza.1966.pdf) _Communications of the ACM, Vol 9, No 1, January 1966_\n",
    "  * The code here is based on the following:\n",
    "    - https://www.smallsurething.com/implementing-the-famous-eliza-chatbot-in-python/\n",
    "    - https://github.com/jezhiggins/eliza.py \n",
    "    - the blog post: https://www.jezuk.co.uk/blog/2017/08/eliza-in-python.html"
   ]
  }
 ],
 "metadata": {
  "celltoolbar": "Slideshow",
  "kernelspec": {
   "display_name": "Python 3",
   "language": "python",
   "name": "python3"
  },
  "language_info": {
   "codemirror_mode": {
    "name": "ipython",
    "version": 3
   },
   "file_extension": ".py",
   "mimetype": "text/x-python",
   "name": "python",
   "nbconvert_exporter": "python",
   "pygments_lexer": "ipython3",
   "version": "3.6.3"
  }
 },
 "nbformat": 4,
 "nbformat_minor": 2
}
