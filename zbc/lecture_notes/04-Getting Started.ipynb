{
 "cells": [
  {
   "cell_type": "markdown",
   "metadata": {
    "slideshow": {
     "slide_type": "slide"
    }
   },
   "source": [
    "# What do I need for this course?\n",
    "\n",
    "You will need:\n",
    "\n",
    "  * An installation of `git`.\n",
    "  * A Python installation via the Anaconda distribution.\n",
    "  * The editor Visual Studio Code.\n",
    " "
   ]
  },
  {
   "cell_type": "markdown",
   "metadata": {
    "slideshow": {
     "slide_type": "subslide"
    }
   },
   "source": [
    "## 1- Git and a Github Account\n",
    "\n",
    "You will need to install Git to your local machine. Git installers can be found here: https://git-scm.com/downloads\n",
    "\n",
    "  * **OBS** If you are on Windows: Do not use your default Windows terminal. Use the Git Bash shell which comes with the installation.\n",
    "  * Please note: The installation is not successful before you can use Git in your console by writing `git`!\n",
    "  * Create a user on GitHub if you do not already have one.\n",
    "\n",
    "### Git on MacOS\n",
    "\n",
    "In case you do not have Git install already, navigate to the following page https://gist.github.com/derhuerst/1b15ff4652a867391f03#file-mac-md and follow the instructions for installing Git on MacOS via `homebrew`.\n",
    "\n",
    "In case you have `homebrew` already installed you can execute Step 2 of that guide directly.\n",
    "\n",
    "### Git with GitBash on Windows\n",
    "\n",
    "\n",
    "#### 1  - Install GitBash.\n",
    "\n",
    "Go to https://gitforwindows.org and download Git for Windows. After download completes, run the installer and choose the following settings\n",
    "\n",
    "![](images/1.png)\n",
    "\n",
    "![](images/2.png)\n",
    "\n",
    "![](images/3.png)\n",
    "\n",
    "![](images/4.png)\n",
    "\n",
    "\n",
    "\n",
    "\n",
    "#### Very important to choose the Nano as in the image below\n",
    "\n",
    "![](images/5.png)\n",
    "\n",
    "![](images/6.png)\n",
    "\n",
    "![](images/7.png)\n",
    "\n",
    "\n",
    "\n",
    "#### Very important to choose the setting shown below\n",
    "\n",
    "<img src=\"images/8.png\" width=\"500px\"/>\n",
    "\n",
    "The rest is just default settings."
   ]
  },
  {
   "cell_type": "markdown",
   "metadata": {
    "slideshow": {
     "slide_type": "subslide"
    }
   },
   "source": [
    "## 2- A Python Installation\n",
    "\n",
    "Likely, the easiest way of installing and configuring Python is via the distribution _Anaconda_.\n",
    "\n",
    "Install the Python 3.6 version corresponding to your machine and OS from https://www.anaconda.com/download.\n",
    "In case you need help read the installation instructions here: https://docs.anaconda.com/anaconda/install/\n",
    "\n",
    "**OBS:** This course will make use of Python 3.6. Many of the provided code examples will not work with Python 2!"
   ]
  },
  {
   "cell_type": "markdown",
   "metadata": {
    "slideshow": {
     "slide_type": "subslide"
    }
   },
   "source": [
    "### Installing Anaconda on Windows.\n",
    "\n",
    "\n",
    "When starting the installation choose the settings as shown below.\n",
    "\n",
    "<img src=\"images/Ana_1.png\" width=\"60%\"/>\n",
    "    \n",
    "\n",
    "#### Adding the Anaconda Programs to your `PATH`\n",
    "\n",
    "In case you have to add the newly installed Anaconda programs to your Windows `PATH` variable do the following:\n",
    "\n",
    "  * Open the `Komandoprompt` (`command prompt` on an English setup) as in the image below.\n",
    "  <img src=\"images/komando.png\" width=\"30%\"/>\n",
    "  * In the `Komandoprompt` window type the following:\n",
    "\n",
    "    - **OBS**: Replace the `<your username>` in the pathes below with your username when typing in the command.\n",
    "    - ```bash \n",
    "    $ SETX PATH \"%PATH%;C:/Users/<your username>/Anaconda3/Scripts;C:/Users/<your username>/Anaconda3\"\n",
    "    ```"
   ]
  },
  {
   "cell_type": "markdown",
   "metadata": {
    "slideshow": {
     "slide_type": "subslide"
    }
   },
   "source": [
    "### Testing your Python Installation\n",
    "\n",
    "On the terminal/GitBash try to check the version of Python, which should be something similar to:\n",
    "\n",
    "```bash\n",
    "$ python --version\n",
    "Python 3.6.4 :: Anaconda, Inc.\n",
    "```\n",
    "\n"
   ]
  },
  {
   "cell_type": "markdown",
   "metadata": {
    "slideshow": {
     "slide_type": "subslide"
    }
   },
   "source": [
    "## 3 - Visual Studio Code \n",
    "\n",
    "\n",
    "### Installation on MacOS\n",
    "\n",
    "\n",
    "Navigate to https://code.visualstudio.com/ and download the installer by clicking the big green download button and install it by dragging the `Visual Studio Code.app` to the `Applications` folder.\n",
    "\n",
    "Launch VS Code using Spotlight, Launchpad or from the Dock.  \n",
    "\n",
    "On the 'Welcome' page find 'Tools and languages' to the right (under 'Customize'). Click 'Python'. Accept.  \n",
    "\n",
    "Next, open the Command Palette (Ctrl+Shift+P) and type 'shell command' to find and select `Shell Command: Install 'code' command in PATH`.\n",
    "\n",
    "![](images/shell-command.png)  \n",
    "\n",
    "Open the Command Palette again and type 'python: select' to find and select `Python: Select Interpreter`.  \n",
    "Select `Anaconda custom (xx-bit) Python 3.6.4`. \n",
    "\n",
    "![](images/code_select_interpreter.png)  \n",
    "\n",
    "If `Python` does not show up in the Command Palette then go back to the 'Welcome' page find 'Tools and languages' to the right (under 'Customize'). Click 'Python'. Accept.\n",
    "\n",
    "### Test  \n",
    "\n",
    "Close Visual Studio Code. Close the terminal window by typing `exit`. Open a new terminal window and type:\n",
    "\n",
    "```bash \n",
    "$ code\n",
    "```\n",
    "\n",
    "which should launch Visual Studio Code again. \n",
    "\n",
    "### Installation on Windows\n",
    "\n",
    "In case you are working from home and do not have access to one of the USB keys, navigate to https://code.visualstudio.com/ and download the installer by clicking the big green download button.\n",
    "\n",
    "The installation is straight forward, the only thing that is important is to check \"Add to Path\" as in the image below. \n",
    "\n",
    "\n",
    "<img src=\"images/vs_code_win.png\" width=\"60%\"/>\n",
    "\n",
    "When the installation is done open GitBash or restart it and type\n",
    "\n",
    "```bash \n",
    "$ code\n",
    "```\n",
    "\n",
    "This should launch Visual Studio Code.\n"
   ]
  },
  {
   "cell_type": "markdown",
   "metadata": {
    "slideshow": {
     "slide_type": "slide"
    }
   },
   "source": [
    "---------------------\n",
    "# Running Python Code\n",
    "\n",
    "Basically, you have two possiblities to run Python code. Either you execute statements iteratively in the read-eval-print-loop (REPL) or you run self-contained programs.\n",
    "\n",
    "## The Python Interpreter\n",
    "\n",
    "On the VM, you can run Python directly on the command line via the `python` command.\n",
    "\n",
    "```bash\n",
    "$ python\n",
    "Python 3.6.3 |Anaconda custom (64-bit)| (default, Oct  6 2017, 12:04:38)\n",
    "[GCC 4.2.1 Compatible Clang 4.0.1 (tags/RELEASE_401/final)] on darwin\n",
    "Type \"help\", \"copyright\", \"credits\" or \"license\" for more information.\n",
    ">>> print('Hello world!')\n",
    "Hello world!\n",
    "```\n",
    "This brings you to the Python REPL and lets you execute your first statements and evaluate your first expressions, see below."
   ]
  },
  {
   "cell_type": "markdown",
   "metadata": {
    "slideshow": {
     "slide_type": "subslide"
    }
   },
   "source": [
    "## IPython\n",
    "\n",
    "Since the Python REPL might feel a bit \"nacked\" and bare metal you might want to use IPython (http://ipython.org), a bit more interactive coding environment. It provides you for example code completion via the *tab* key or direct help to functions. More to the use of IPython later.\n",
    "\n",
    "```bash\n",
    "$ ipython\n",
    "Python 3.6.3 |Anaconda custom (64-bit)| (default, Oct  6 2017, 12:04:38)\n",
    "Type 'copyright', 'credits' or 'license' for more information\n",
    "IPython 6.1.0 -- An enhanced Interactive Python. Type '?' for help.\n",
    "\n",
    "In [1]: print('Hello world!')\n",
    "Hello world!\n",
    "```"
   ]
  },
  {
   "cell_type": "markdown",
   "metadata": {
    "slideshow": {
     "slide_type": "subslide"
    }
   },
   "source": [
    "## Running Self-contained Python Programs\n",
    "\n",
    "To create a simple \"Hello World\" script copy and paste the following code to your command line:\n",
    "\n",
    "```bash\n",
    "$ cat <<EOF > hello.py\n",
    "print('Hello World!')\n",
    "EOF\n",
    "```\n",
    "\n",
    "That is, with subsequently runnning the program, you should see something like in the following.\n",
    "\n",
    "```bash\n",
    "$ cat hello.py\n",
    "print('Hello World!')\n",
    "$ python hello.py\n",
    "Hello World!\n",
    "```"
   ]
  },
  {
   "cell_type": "markdown",
   "metadata": {
    "slideshow": {
     "slide_type": "subslide"
    }
   },
   "source": [
    "## Jupyter Notebooks\n",
    "\n",
    "Jupyter notebooks, formerly known as IPython notebooks, provide you with an interactive coding environment, right in your browser. What you are currently looking at is such a notebook environment.\n",
    "\n",
    "You can start the notebook server via:\n",
    "\n",
    "```bash\n",
    "$ cd path/to/notebooks/\n",
    "$ jupyter notebook\n",
    "```\n",
    "\n",
    "That should open your browser on http://127.0.0.1:8888 and you should see an environment similar to the one I am presenting."
   ]
  },
  {
   "cell_type": "code",
   "execution_count": null,
   "metadata": {},
   "outputs": [],
   "source": []
  },
  {
   "cell_type": "markdown",
   "metadata": {
    "slideshow": {
     "slide_type": "slide"
    }
   },
   "source": [
    "--------\n",
    "\n",
    "# Working with the Lecture Notes\n",
    "Best fork this repository on Github.\n",
    "\n",
    "And fetch the latest changes before/after each lecture, see https://help.github.com/articles/syncing-a-fork/.\n",
    "\n",
    "```bash\n",
    "git clone https://github.com/<YourID>/dat4sem2018spring-python.git\n",
    "```"
   ]
  }
 ],
 "metadata": {
  "celltoolbar": "Slideshow",
  "kernelspec": {
   "display_name": "Python 3",
   "language": "python",
   "name": "python3"
  },
  "language_info": {
   "codemirror_mode": {
    "name": "ipython",
    "version": 3
   },
   "file_extension": ".py",
   "mimetype": "text/x-python",
   "name": "python",
   "nbconvert_exporter": "python",
   "pygments_lexer": "ipython3",
   "version": "3.6.4"
  }
 },
 "nbformat": 4,
 "nbformat_minor": 2
}
