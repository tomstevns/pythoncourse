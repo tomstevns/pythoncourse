{
 "cells": [
  {
   "cell_type": "markdown",
   "metadata": {},
   "source": [
    "# A First Example\n",
    "Programming often involves examining a set of conditions and deciding which action to take based on those conditions. Python’s `if` statement allows you to examine the current state of a program and respond appropriately to that state."
   ]
  },
  {
   "cell_type": "code",
   "execution_count": null,
   "metadata": {
    "collapsed": true
   },
   "outputs": [],
   "source": [
    "titles = ['moby-dick; or, the whale', 'dracula', 'adventures of huckleberry finn', \n",
    "         'the adventures of sherlock holmes', 'alice\\'s adventures in wonderland']\n",
    "\n",
    "for title in titles:\n",
    "    if 'moby-dick' in title:\n",
    "        print(title.upper())\n",
    "    else:\n",
    "        print(title.title())"
   ]
  },
  {
   "cell_type": "markdown",
   "metadata": {},
   "source": [
    "# Conditional Tests\n",
    "\n",
    "At the heart of every `if` statement is an **expression** that can be evaluated as `True` or `False` and is called a conditional test. Python uses the values `True` and `False` to decide whether the code in an `if` statement should be executed. If a conditional test evaluates to `True`, Python executes the code following the `if` statement. If the test evaluates to `False`, Python ignores the code following the if statement.\n",
    "\n",
    "That is, conditional test are just **Boolean Expressions**.  *\"A Boolean expression is an expression in a programming language that produces a Boolean value when evaluated, i.e. one of true or false. A Boolean expression may be composed of a combination of the Boolean constants true or false, Boolean-typed variables, Boolean-valued operators, and Boolean-valued functions.\"* Gries, David; Schneider, Fred B. (1993), \"Chapter 2. Boolean Expressions\", A Logical Approach to Discrete Math, Monographs in Computer Science, Springer, p. 25"
   ]
  },
  {
   "cell_type": "code",
   "execution_count": null,
   "metadata": {
    "collapsed": true
   },
   "outputs": [],
   "source": [
    "name = 'Ishmael'\n",
    "\n",
    "# Check for equality\n",
    "if name == 'Ishmael':\n",
    "    print('Reading Moby Dick.')\n",
    "    \n",
    "# Check for inequality\n",
    "if name != 'Ishmael':\n",
    "    print('Reading something else.')"
   ]
  },
  {
   "cell_type": "markdown",
   "metadata": {},
   "source": [
    "## Comparison Operators\n",
    "\n",
    "Comparison operators compare two values and evaluate down to a single Boolean value.\n",
    "\n",
    "|Operator|Meaning|\n",
    "|--|--|\n",
    "| `==` | Equal to |\n",
    "| `!=` | Not equal to |\n",
    "| `<` | Less than |\n",
    "| `>` | Greater than |\n",
    "| `<=` | Less than or equal to |\n",
    "| `>=` | Greater than or equal to |\n",
    "\n"
   ]
  },
  {
   "cell_type": "code",
   "execution_count": null,
   "metadata": {
    "collapsed": true
   },
   "outputs": [],
   "source": [
    "42 == 42"
   ]
  },
  {
   "cell_type": "code",
   "execution_count": null,
   "metadata": {
    "collapsed": true
   },
   "outputs": [],
   "source": [
    "42 == 99"
   ]
  },
  {
   "cell_type": "code",
   "execution_count": null,
   "metadata": {
    "collapsed": true
   },
   "outputs": [],
   "source": [
    "2 != 3"
   ]
  },
  {
   "cell_type": "code",
   "execution_count": null,
   "metadata": {
    "collapsed": true
   },
   "outputs": [],
   "source": [
    "2 != 2"
   ]
  },
  {
   "cell_type": "code",
   "execution_count": null,
   "metadata": {
    "collapsed": true
   },
   "outputs": [],
   "source": [
    "'Hej' == 'Hej'"
   ]
  },
  {
   "cell_type": "code",
   "execution_count": null,
   "metadata": {
    "collapsed": true
   },
   "outputs": [],
   "source": [
    "'Hej' == 'hej'"
   ]
  },
  {
   "cell_type": "code",
   "execution_count": null,
   "metadata": {
    "collapsed": true
   },
   "outputs": [],
   "source": [
    "True == True"
   ]
  },
  {
   "cell_type": "code",
   "execution_count": null,
   "metadata": {
    "collapsed": true
   },
   "outputs": [],
   "source": [
    "True != False"
   ]
  },
  {
   "cell_type": "code",
   "execution_count": 1,
   "metadata": {},
   "outputs": [
    {
     "data": {
      "text/plain": [
       "True"
      ]
     },
     "execution_count": 1,
     "metadata": {},
     "output_type": "execute_result"
    }
   ],
   "source": [
    "42 == 42.0"
   ]
  },
  {
   "cell_type": "code",
   "execution_count": 3,
   "metadata": {},
   "outputs": [
    {
     "data": {
      "text/plain": [
       "True"
      ]
     },
     "execution_count": 3,
     "metadata": {},
     "output_type": "execute_result"
    }
   ],
   "source": [
    "42 == '42'"
   ]
  },
  {
   "cell_type": "markdown",
   "metadata": {},
   "source": [
    "## Boolean operators\n",
    "\n",
    "The and and or operators always take two Boolean values or expressions, i.e., they are binary operators. The `and` operator evaluates an expression to `True` if both Boolean values are `True`; otherwise, it evaluates to `False`.\n",
    "\n",
    "On the other hand, the or operator evaluates an expression to True if either of the two Boolean values is True. If both are False, it evaluates to False.\n",
    "\n",
    "|Expression|Evaluates to...|\n",
    "|--|--|\n",
    "| `True and True` | `True` |\n",
    "| `True and False` | `False` |\n",
    "| `False and True` | `False` |\n",
    "| `False and False` |`False` |\n",
    "\n",
    "|Expression|Evaluates to...|\n",
    "|--|--|\n",
    "| `True or True` | `True` |\n",
    "| `True or False` | `True` |\n",
    "| `False or True` | `True` |\n",
    "| `False or False` |`False` |\n",
    "\n",
    "\n",
    "Unlike and and or, the `not` operator operates on only one Boolean value or expression. The `not` operator simply evaluates to the opposite Boolean value, i.e., its negation.\n",
    "\n",
    "|Expression|Evaluates to...|\n",
    "|--|--|\n",
    "| `not True` | `False` |\n",
    "| `not False` | `True` |\n"
   ]
  },
  {
   "cell_type": "code",
   "execution_count": null,
   "metadata": {
    "collapsed": true
   },
   "outputs": [],
   "source": [
    "True and True"
   ]
  },
  {
   "cell_type": "code",
   "execution_count": null,
   "metadata": {
    "collapsed": true
   },
   "outputs": [],
   "source": [
    "True and False"
   ]
  },
  {
   "cell_type": "code",
   "execution_count": null,
   "metadata": {
    "collapsed": true
   },
   "outputs": [],
   "source": [
    "(5 > 4) and True"
   ]
  },
  {
   "cell_type": "code",
   "execution_count": null,
   "metadata": {
    "collapsed": true
   },
   "outputs": [],
   "source": [
    "False or (100 / 2 == 50)"
   ]
  },
  {
   "cell_type": "code",
   "execution_count": null,
   "metadata": {
    "collapsed": true
   },
   "outputs": [],
   "source": [
    "not not not not True"
   ]
  },
  {
   "cell_type": "code",
   "execution_count": null,
   "metadata": {
    "collapsed": true
   },
   "outputs": [],
   "source": [
    "2 + 2 == 4 and not 2 + 2 == 5 and 2 * 2 == 2 + 2 and not 'Hej'.startswith('O')"
   ]
  },
  {
   "cell_type": "markdown",
   "metadata": {},
   "source": [
    "## Checking Whether a Value is in a List\n",
    "\n",
    "Recall from the session on lists, that you have the `in` operator to check wether a value is a member of a list."
   ]
  },
  {
   "cell_type": "code",
   "execution_count": null,
   "metadata": {
    "collapsed": true
   },
   "outputs": [],
   "source": [
    "1 in [0, 1, 2, 3]"
   ]
  },
  {
   "cell_type": "code",
   "execution_count": null,
   "metadata": {
    "collapsed": true
   },
   "outputs": [],
   "source": [
    "1 not in [0, 1, 2, 3]"
   ]
  },
  {
   "cell_type": "markdown",
   "metadata": {},
   "source": [
    "# `if` Statements\n",
    "\n",
    "## Simple if Statements\n",
    "The simplest kind of if statement has one test and one action:\n",
    "\n",
    "```python \n",
    "if conditional_test: \n",
    "    statements\n",
    "```\n",
    "\n",
    "\n",
    "If the conditional test evaluates to `True`, Python executes the code following the `if` statement. If the test evaluates to `False`, Python ignores the code following the `if` statement."
   ]
  },
  {
   "cell_type": "code",
   "execution_count": 8,
   "metadata": {},
   "outputs": [
    {
     "name": "stdout",
     "output_type": "stream",
     "text": [
      "Yep, right!\n",
      "Still, right!\n"
     ]
    }
   ],
   "source": [
    "if 5 > 4:\n",
    "    print('Yep, right!')\n",
    "    print('Still, right!')"
   ]
  },
  {
   "cell_type": "markdown",
   "metadata": {},
   "source": [
    "**OBS!** Remember intendation to match your intents."
   ]
  },
  {
   "cell_type": "code",
   "execution_count": null,
   "metadata": {
    "collapsed": true
   },
   "outputs": [],
   "source": [
    "if 5 < 4:\n",
    "    print('Yep, right!')\n",
    "print('Still, right!')"
   ]
  },
  {
   "cell_type": "markdown",
   "metadata": {},
   "source": [
    "## `if`-`else` Statements\n",
    "\n",
    "An if-else block is similar to a simple if statement, but the else statement allows you to de ne an action or set of actions that are executed when the conditional test fails."
   ]
  },
  {
   "cell_type": "code",
   "execution_count": null,
   "metadata": {
    "collapsed": true
   },
   "outputs": [],
   "source": [
    "title = 'Moby-Dick; or, the Whale'\n",
    "\n",
    "if 'Moby-Dick' in title:\n",
    "    print('by Herman Melville')\n",
    "else:\n",
    "    print('hmm, I do not know the author.')"
   ]
  },
  {
   "cell_type": "markdown",
   "metadata": {},
   "source": [
    "## The if-elif-else Chain\n",
    "\n",
    "Often, you’ll need to test more than two possible situations, and to evaluate these you can use Python’s `if`-`elif`-`else` syntax. Python executes only one block in an if-elif-else chain. It runs each conditional test in order until one passes. When a test passes, the code following that test is executed and subsequent tests are skipped. You can use as many elif blocks in your code as you like.\n",
    "\n",
    "Python does not require an else block at the end of an `if`-`elif` chain. Sometimes an else block is useful; sometimes it is clearer to use an additional `elif` statement that catches the specific condition of interest.\n",
    "\n",
    "The `else` block is a catchall statement. It matches any condition that was not matched by a specific if or `elif` test, and that can sometimes include invalid or even malicious data. If you have a specific  nal condition you are testing for, consider using a  final `elif` block and omit the else block. As a result, you will gain extra confidence that your code will run only under the correct conditions."
   ]
  },
  {
   "cell_type": "code",
   "execution_count": null,
   "metadata": {
    "collapsed": true
   },
   "outputs": [],
   "source": [
    "year = 1871\n",
    "\n",
    "if year == 1851:\n",
    "    message = 'First print.'\n",
    "elif year == 1855:\n",
    "    message = 'Second print.'\n",
    "elif year == 1863:\n",
    "    message = 'Third print.'\n",
    "elif year == 1871:\n",
    "    message = 'Fourth print.'\n",
    "else:\n",
    "    message = 'Hmm, I do not know this year...'\n",
    "    \n",
    "print(message)"
   ]
  },
  {
   "cell_type": "markdown",
   "metadata": {},
   "source": [
    "## Testing Multiple Conditions\n",
    "\n",
    "The `if`-`elif`-`else` chain is powerful, but it is only appropriate to use when you just need one test to pass. As soon as Python finds one test that passes, it skips the rest of the tests. This behavior is beneficial, because it is efficient and allows you to test for one specific condition.\n",
    "\n",
    "However, sometimes it is important to check all of the conditions of interest. In this case, you should use a series of simple if statements with no elif or else blocks. This technique makes sense when more than one condition could be `True`, and you want to act on every condition that is `True`.\n"
   ]
  },
  {
   "cell_type": "code",
   "execution_count": null,
   "metadata": {
    "collapsed": true
   },
   "outputs": [],
   "source": [
    "authors = ['Herman Melville', 'Arthur Conan Doyle'] # , 'Mark Twain']\n",
    "\n",
    "books_a = ['Moby Dick; Or, The Whale', 'The Apple-Tree Table and Other Sketches', \n",
    "           'Bartleby, the Scrivener: A Story of Wall-Street', 'The Piazza Tales',\n",
    "           'The Confidence-Man: His Masquerade']\n",
    "\n",
    "books_b = ['The Adventures of Sherlock Holmes', 'A Study in Scarlet', \n",
    "           'The Hound of the Baskervilles', 'The Sign of the Four',\n",
    "           'The Return of Sherlock Holmes']\n",
    "           \n",
    "books_c = ['Adventures of Huckleberry Finn', 'The Adventures of Tom Sawyer',\n",
    "           'The Mysterious Stranger, and Other Stories', \n",
    "           'A Connecticut Yankee in King Arthur\\'s Court', 'The Innocents Abroad']\n",
    "         \n",
    "library = []\n",
    "         \n",
    "if 'Herman Melville' in authors: \n",
    "    library += books_a\n",
    "if 'Arthur Conan Doyle' in authors:\n",
    "    library += books_b           \n",
    "if 'Mark Twain' in authors: \n",
    "    library += books_c\n",
    "\n",
    "print('Your library contains:')\n",
    "print(library)"
   ]
  },
  {
   "cell_type": "markdown",
   "metadata": {},
   "source": [
    "## Checking that a List is not Empty\n",
    "\n",
    "Since lists are \"truthy\" values they can be used as boolean expressions. That is,\n",
    "\n",
    "```python\n",
    "library = []\n",
    "\n",
    "if library:\n",
    "    pass\n",
    "```\n",
    "\n",
    "is equivalent to:\n",
    "\n",
    "```python\n",
    "if library != []:\n",
    "    pass\n",
    "```\n",
    "\n",
    "However, the former is more pythonic."
   ]
  },
  {
   "cell_type": "code",
   "execution_count": null,
   "metadata": {
    "collapsed": true
   },
   "outputs": [],
   "source": [
    "library = []\n",
    "\n",
    "if library:\n",
    "    print('List is not empty.')\n",
    "else:\n",
    "    print('List is empty.')"
   ]
  },
  {
   "cell_type": "markdown",
   "metadata": {},
   "source": [
    "# Exercises!!!\n",
    "\n",
    "![image](http://i.imgur.com/kvUU7.gif)\n",
    "\n",
    "\n",
    "  1. Extend your program from the exercises in `05-Loops.ipynb` to not only produce correct but also well-formed sentences. That is, the sentence `A insect fly.` is not well-formed but `An insect flies.` is. To do so, use of conditional statements for your modification."
   ]
  },
  {
   "cell_type": "code",
   "execution_count": 5,
   "metadata": {},
   "outputs": [
    {
     "name": "stdout",
     "output_type": "stream",
     "text": [
      "3000000\n"
     ]
    }
   ],
   "source": [
    "# https://www.espressoenglish.net/100-common-adjectives-in-english/ \n",
    "adjectives = [\"other\", \"new\", \"good\", \"high\", \"old\", \"great\", \"big\", \"American\",\n",
    "       \"small\", \"large\", \"national\", \"young\", \"different\", \"black\", \"long\", \n",
    "       \"little\", \"important\", \"political\", \"bad\", \"white\", \"real\", \"best\", \n",
    "       \"right\", \"social\", \"only\", \"public\", \"sure\", \"low\", \"early\", \"able\", \n",
    "       \"human\", \"local\", \"late\", \"hard\", \"major\", \"better\", \"economic\", \n",
    "       \"strong\", \"possible\", \"whole\", \"free\", \"military\", \"true\", \"federal\", \n",
    "       \"international\", \"full\", \"special\", \"easy\", \"clear\", \"recent\", \n",
    "       \"certain\", \"personal\", \"open\", \"red\", \"difficult\", \"available\", \n",
    "       \"likely\", \"short\", \"single\", \"medical\", \"current\", \"wrong\", \"private\", \n",
    "       \"past\", \"foreign\", \"fine\", \"common\", \"poor\", \"natural\", \"significant\", \n",
    "       \"similar\", \"hot\", \"dead\", \"central\", \"happy\", \"serious\", \"ready\", \n",
    "       \"simple\", \"left\", \"physical\", \"general\", \"environmental\", \"financial\", \n",
    "       \"blue\", \"democratic\", \"dark\", \"various\", \"entire\", \"close\", \"legal\", \n",
    "       \"religious\", \"cold\", \"final\", \"main\", \"green\", \"nice\", \"huge\", \n",
    "       \"popular\", \"traditional\", \"cultural\"] \n",
    "\n",
    "articles = [\"the\", \"a\", \"an\"] \n",
    "\n",
    "# https://www.espressoenglish.net/100-common-nouns-in-english/ \n",
    "nouns = [\"time\", \"year\", \"people\", \"way\", \"day\", \"man\", \"thing\", \"woman\",\n",
    "         \"life\", \"child\", \"world\", \"school\", \"state\", \"family\", \"student\", \n",
    "         \"group\", \"country\", \"problem\", \"hand\", \"part\", \"place\", \"case\", \n",
    "         \"week\", \"company\", \"system\", \"program\", \"question\", \"work\", \n",
    "         \"government\", \"number\", \"night\", \"point\", \"home\", \"water\", \"room\", \n",
    "         \"mother\", \"area\", \"money\", \"story\", \"fact\", \"month\", \"lot\", \"right\", \n",
    "         \"study\", \"book\", \"eye\", \"job\", \"word\", \"business\", \"issue\", \"side\", \n",
    "         \"kind\", \"head\", \"house\", \"service\", \"friend\", \"father\", \"power\", \n",
    "         \"hour\", \"game\", \"line\", \"end\", \"member\", \"law\", \"car\", \"city\", \n",
    "         \"community\", \"name\", \"president\", \"team\", \"minute\", \"idea\", \"kid\", \n",
    "         \"body\", \"information\", \"back\", \"parent\", \"face\", \"others\", \"level\", \n",
    "         \"office\", \"door\", \"health\", \"person\", \"art\", \"war\", \"history\", \n",
    "         \"party\", \"result\", \"change\", \"morning\", \"reason\", \"research\", \"girl\", \n",
    "         \"guy\", \"moment\", \"air\", \"teacher\", \"force\", \"education\"] \n",
    "\n",
    "# https://www.espressoenglish.net/100-most-common-english-verbs/ \n",
    "verbs = [\"be\", \"have\", \"do\", \"say\", \"go\", \"can\", \"get\", \"would\", \"make\",        \n",
    "         \"know\", \"will\", \"think\", \"take\", \"see\", \"come\", \"could\", \"want\", \n",
    "         \"look\", \"use\", \"find\", \"give\", \"tell\", \"work\", \"may\", \"should\", \n",
    "         \"call\", \"try\", \"ask\", \"need\", \"feel\", \"become\", \"leave\", \"put\", \n",
    "         \"mean\", \"keep\", \"let\", \"begin\", \"seem\", \"help\", \"talk\", \"turn\", \n",
    "         \"start\", \"might\", \"show\", \"hear\", \"play\", \"run\", \"move\", \"like\", \n",
    "         \"live\", \"believe\", \"hold\", \"bring\", \"happen\", \"must\", \"write\", \n",
    "         \"provide\", \"sit\", \"stand\", \"lose\", \"pay\", \"meet\", \"include\", \n",
    "         \"continue\", \"set\", \"learn\", \"change\", \"lead\", \"understand\", \"watch\", \n",
    "         \"follow\", \"stop\", \"create\", \"speak\", \"read\", \"allow\", \"add\", \"spend\", \n",
    "         \"grow\", \"open\", \"walk\", \"win\", \"offer\", \"remember\", \"love\", \n",
    "         \"consider\", \"appear\", \"buy\", \"wait\", \"serve\", \"die\", \"send\", \"expect\", \n",
    "         \"build\", \"stay\", \"fall\", \"cut\", \"reach\", \"kill\", \"remain\"]\n",
    "\n",
    "# len(adj) * len(articles) * len(nouns) * len(verbs)\n",
    "sentences = []\n",
    "for article in articles:\n",
    "    for adjective in adjectives:\n",
    "        for noun in nouns:\n",
    "            for verb in verbs:\n",
    "                sentences.append((' '.join([article, adjective, noun, verb])))\n",
    "                \n",
    "print(len(sentences))"
   ]
  }
 ],
 "metadata": {
  "kernelspec": {
   "display_name": "Python 3",
   "language": "python",
   "name": "python3"
  },
  "language_info": {
   "codemirror_mode": {
    "name": "ipython",
    "version": 3
   },
   "file_extension": ".py",
   "mimetype": "text/x-python",
   "name": "python",
   "nbconvert_exporter": "python",
   "pygments_lexer": "ipython3",
   "version": "3.6.3"
  }
 },
 "nbformat": 4,
 "nbformat_minor": 2
}
