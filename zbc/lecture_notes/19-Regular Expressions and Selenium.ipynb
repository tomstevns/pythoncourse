{
 "cells": [
  {
   "cell_type": "markdown",
   "metadata": {},
   "source": [
    "# Regular Expressions\n",
    "\n",
    "http://www.pyregex.com\n",
    "\n",
    "This tutorial is based on chapter 7 \"Pattern Matching With Regular Expressions\" of the book *Automate The Boring Stuff The Boring Stuff With Python* by Al Sweigart.\n",
    "\n",
    "\n",
    "\n",
    "*Regular expressions* allow you to specify a pattern of text to search for.\n",
    "\n",
    "Regular expressions are huge time-savers, not just for software users but also for programmers. In fact, tech writer Cory Doctorow argues that even before teaching programming, we should be teaching regular expressions:\n",
    "\n",
    "> Knowing [regular expressions] can mean the difference between solving a problem in 3 steps and solving it in 3,000 steps. When you’re a nerd, you forget that the problems you solve with a couple keystrokes can take other people days of tedious, error-prone work to slog through.\n",
    "https://www.theguardian.com/technology/2012/dec/04/ict-teach-kids-regular-expressions\n",
    "\n",
    "\n",
    "## Finding Patterns of Text with Regular Expressions\n",
    "\n",
    "Regular expressions, called regexes for short, are descriptions for a pattern of text. For example, a `\\d` in a regex stands for a digit character, that is, any single numeral `0` to `9`. The regex `\\d\\d \\d\\d \\d\\d \\d\\d` could be used  by Python to match a Danish telefon number, a string of eight numbers separated by whitespaces.\n",
    "\n",
    "But regular expressions can be much more sophisticated. For example, adding a `2` in curly brackets (`{2}`) after a pattern is like saying, \"Match this pattern two times.\" So the regex `\\d{2} \\d{2} \\d{2} \\d{2}` also matches the correct phone number format. It could be shortened even more to `(\\d{2} ){3}\\d{2}`.\n",
    "\n",
    "### Creating Regex Objects\n",
    "\n",
    "All the regex functions in Python are in the `re` module.\n",
    "\n",
    "Passing a string value representing your regular expression to `re.compile()` returns a Regex pattern object (or simply, a Regex object). Note, since regular expressions frequently use backslashes in them, it is convenient to pass raw strings to the `re.compile()` function instead of typing extra backslashes. Typing `r'\\d{2} \\d{2} \\d{2} \\d{2}'` is much easier than typing `'\\\\d{2} \\\\d{2} \\\\d{2} \\\\d{2}'`.\n",
    "\n",
    "\n"
   ]
  },
  {
   "cell_type": "code",
   "execution_count": 1,
   "metadata": {},
   "outputs": [],
   "source": [
    "import re\n",
    "\n",
    "\n",
    "phone_num_reg = re.compile(r'\\d{2} \\d{2} \\d{2} \\d{2}')"
   ]
  },
  {
   "cell_type": "markdown",
   "metadata": {},
   "source": [
    "### Matching Regex Objects\n",
    "\n",
    "A Regex object’s `search()` method searches the string it is passed for any matches to the regex. The `search()` method will return `None` if the regex pattern is not found in the string. If the pattern is found, the `search()` method returns a `Match` object. `Match` objects have a `group()` method that will return the actual matched text from the searched string."
   ]
  },
  {
   "cell_type": "code",
<<<<<<< HEAD
   "execution_count": 2,
=======
   "execution_count": 9,
>>>>>>> upstream/master
   "metadata": {},
   "outputs": [
    {
     "data": {
      "text/plain": [
<<<<<<< HEAD
       "'20 86 46 44'"
      ]
     },
     "execution_count": 2,
=======
       "'61 69 03 76'"
      ]
     },
     "execution_count": 9,
>>>>>>> upstream/master
     "metadata": {},
     "output_type": "execute_result"
    }
   ],
   "source": [
    "import re\n",
    "\n",
    "\n",
    "phone_num_reg = re.compile(r'\\d{2} \\d{2} \\d{2} \\d{2}')\n",
    "\n",
<<<<<<< HEAD
    "address_entry = \"\"\"Møller \n",
    "20 86 46 44 \n",
    "Herningvej 8\n",
    "4800\n",
    "Nykøbing F\"\"\"\n",
=======
    "address_entry = \"\"\"A Henning Gamborg Møller\n",
    "Klostergade 28\n",
    "6760 Ribe\n",
    "61 69 03 76\"\"\"\n",
>>>>>>> upstream/master
    "\n",
    "mo = phone_num_reg.search(address_entry)\n",
    "mo.group()\n",
    "\n"
   ]
  },
  {
   "cell_type": "markdown",
   "metadata": {},
   "source": [
    "### Grouping with Parentheses\n",
    "\n",
    "\n",
    "Adding parentheses will create groups in the regex: `r'(\\d{4})\\n(Nykøbing F)'`. Then you can use the `group()` match object method to grab the matching text from just one group. The first set of parentheses in a regex string will be group 1. The second set will be group 2. By passing the integer 1 or 2 to the `group()` match object method, you can grab different parts of the matched text. Passing 0 or nothing to the `group()` method will return the entire matched text.\n"
   ]
  },
  {
   "cell_type": "code",
<<<<<<< HEAD
   "execution_count": 3,
=======
   "execution_count": 11,
>>>>>>> upstream/master
   "metadata": {},
   "outputs": [
    {
     "name": "stdout",
     "output_type": "stream",
     "text": [
<<<<<<< HEAD
      "4800\n",
      "Nykøbing F\n",
      "Group 1:  4800\n",
      "Group 2:  Nykøbing F\n"
=======
      "6760 Ribe\n",
      "Group 1:  6760\n",
      "Group 2:  Ribe\n"
>>>>>>> upstream/master
     ]
    },
    {
     "data": {
      "text/plain": [
<<<<<<< HEAD
       "('4800', 'Nykøbing F')"
      ]
     },
     "execution_count": 3,
=======
       "('6760', 'Ribe')"
      ]
     },
     "execution_count": 11,
>>>>>>> upstream/master
     "metadata": {},
     "output_type": "execute_result"
    }
   ],
   "source": [
<<<<<<< HEAD
    "phone_num_reg = re.compile(r'(\\d{4})\\n(Nykøbing F)')\n",
    "\n",
    "address_entry = \"\"\"Møller \n",
    "20 86 46 44 \n",
    "Herningvej 8\n",
    "4800\n",
    "Nykøbing F\"\"\"\n",
=======
    "phone_num_reg = re.compile(r'(\\d{4}) (Ribe)')\n",
    "\n",
    "address_entry = \"\"\"A Henning Gamborg Møller\n",
    "Klostergade 28\n",
    "6760 Ribe\n",
    "61 69 03 76\"\"\"\n",
>>>>>>> upstream/master
    "\n",
    "mo = phone_num_reg.search(address_entry)\n",
    "print(mo.group(0))\n",
    "print('Group 1: ', mo.group(1))\n",
    "print('Group 2: ', mo.group(2))\n",
    "mo.groups()"
   ]
  },
  {
   "cell_type": "markdown",
   "metadata": {},
   "source": [
    "### The `findall()` Method\n",
    "\n",
    "In addition to the `search()` method, Regex objects also have a `findall()` method. While `search()` will return a Match object of the first matched text in the searched string, the `findall()` method will return the strings of every match in the searched string. \n",
    "\n",
    "\n",
    "If there are groups in the regular expression, then findall() will return a list of tuples."
   ]
  },
  {
   "cell_type": "code",
<<<<<<< HEAD
   "execution_count": 4,
=======
   "execution_count": 12,
>>>>>>> upstream/master
   "metadata": {},
   "outputs": [
    {
     "name": "stdout",
     "output_type": "stream",
     "text": [
<<<<<<< HEAD
      "All matches: ['20 86 46 44', '86 14 18 31', '54 94 41 81']\n",
      "First match: 20 86 46 44\n"
=======
      "All matches: ['61 69 03 76', '75 50 75 14', '86 45 44 36', '76 42 00 81', '86 13 22 99', '97 95 20 01']\n",
      "First match: 61 69 03 76\n"
>>>>>>> upstream/master
     ]
    }
   ],
   "source": [
    "phone_num_reg = re.compile(r'\\d{2} \\d{2} \\d{2} \\d{2}')\n",
    "\n",
<<<<<<< HEAD
    "address_entry = \"\"\"Møller \n",
    "20 86 46 44 \n",
    "Herningvej 8\n",
    "4800\n",
    "Nykøbing F\n",
    "\n",
    "A Bischoff Møller\n",
    "86 14 18 31 \n",
    "Stenkildevej 14\n",
    "8260\n",
    "Viby J\n",
    "\n",
    "A Egelund-Møller\n",
    "54 94 41 81 \n",
    "Rønnebærparken 1 0011\n",
    "4983\n",
    "Dannemare\"\"\"\n",
=======
    "address_entry = \"\"\"A Henning Gamborg Møller\n",
    "Klostergade 28\n",
    "6760 Ribe\n",
    "61 69 03 76\n",
    "\n",
    "A K Møller\n",
    "Bregnerødvej 75, st. 0002\n",
    "3460 Birkerød\n",
    "75 50 75 14\n",
    "\n",
    "A Møller\n",
    "Violvej 3\n",
    "Ø. Bjerregrav\n",
    "8920 Randers NV\n",
    "86 45 44 36\n",
    "\n",
    "A Møller\n",
    "Hyrdevej 16A\n",
    "7000 Fredericia\n",
    "76 42 00 81\n",
    "\n",
    "A Møller\n",
    "Brammersgade 45\n",
    "8000 Aarhus C\n",
    "86 13 22 99\n",
    "\n",
    "A Møller\n",
    "Dalstræde 11\n",
    "Heltborg\n",
    "7760 Hurup Thy\n",
    "97 95 20 01\n",
    "\"\"\"\n",
>>>>>>> upstream/master
    "\n",
    "numbers = phone_num_reg.findall(address_entry)\n",
    "print('All matches: {}'.format(numbers))\n",
    "\n",
    "mo = phone_num_reg.search(address_entry)\n",
    "print('First match: {}'.format(mo.group()))"
   ]
  },
  {
   "cell_type": "markdown",
   "metadata": {},
   "source": [
    "### More Regexp Syntax\n",
    "\n",
    "On top of grouping and repetitions, Regexps can express quite a bit more. Have a look to http://www.pyregex.com to see what else is possible. Now, we will play a bit with Regexps in the editor."
   ]
  },
  {
   "cell_type": "code",
<<<<<<< HEAD
   "execution_count": 6,
=======
   "execution_count": 13,
>>>>>>> upstream/master
   "metadata": {},
   "outputs": [
    {
     "name": "stdout",
     "output_type": "stream",
     "text": [
      "Møller \n",
      "20 86 46 44 \n",
      "Herningvej 8\n",
      "4800\n",
      "Nykøbing F\n",
      "\n",
<<<<<<< HEAD
      "A Bischoff Møller\n",
      "86 14 18 31 \n",
      "Stenkildevej 14\n",
      "8260\n",
      "Viby J\n",
      "\n",
      "A Egelund-Møller\n",
      "54 94 41 81 \n",
      "Rønnebærparken 1 0011\n",
      "4983\n",
      "Dannemare\n",
=======
      "A Henning Gamborg Møller\n",
      "61 69 03 76 \n",
      "Klostergade 28\n",
      "6760\n",
      "Ribe\n",
>>>>>>> upstream/master
      "\n",
      "A K Møller\n",
      "75 50 75 14 \n",
      "Bregnerødvej 75, st. 0002\n",
      "3460\n",
      "Birkerød\n",
      "\n",
      "A Møller\n",
<<<<<<< HEAD
      "74 74 36 62 \n",
      "Jørgensgaardvej 13\n",
      "6240\n",
      "Løgumkloster\n",
=======
      "76 42 00 81 \n",
      "Hyrdevej 16A\n",
      "7000\n",
      "Fredericia\n",
>>>>>>> upstream/master
      "\n",
      "A Møller\n",
      "86 13 22 99 \n",
      "Brammersgade 45\n",
      "8000\n",
      "Aarhus C\n",
      "\n",
      "A Møller\n",
<<<<<<< HEAD
      "76 42 00 81 \n",
      "Hyrdevej 16A\n",
      "7000\n",
      "Fredericia\n",
      "\n",
      "A Møller\n",
=======
>>>>>>> upstream/master
      "97 95 20 01 \n",
      "Dalstræde 11\n",
      "Heltborg\n",
      "7760\n",
      "Hurup Thy\n",
      "\n",
      "A Møller\n",
<<<<<<< HEAD
=======
      "74 74 36 62 \n",
      "Jørgensgaardvej 13\n",
      "6240\n",
      "Løgumkloster\n",
      "\n",
      "A Møller\n",
>>>>>>> upstream/master
      "86 45 44 36 \n",
      "Violvej 3\n",
      "Ø. Bjerregrav\n",
      "8920\n",
      "Randers NV\n",
      "\n",
      "A Møller Andersen\n",
      "45 80 47 14 \n",
      "Gammel Holtevej 60\n",
      "Gl Holte\n",
      "2840\n",
      "Holte\n",
      "\n",
      "A Møller Hansen\n",
      "86 28 39 14 \n",
      "Rugbjergvej 23\n",
      "Stavtrup\n",
      "8260\n",
      "Viby J\n",
      "\n",
      "A Møller Jensen\n",
      "86 15 31 51 \n",
      "Viborgvej 115, 1. tv\n",
      "Hasle\n",
      "8210\n",
      "Aarhus V\n",
      "\n",
      "A Møller Knudsen\n",
      "86 15 99 81 \n",
      "Julivej 15\n",
      "8210\n",
      "Aarhus V\n",
      "\n",
<<<<<<< HEAD
      "A Møller Pedersen\n",
      "75 62 16 57 \n",
      "Fredrik Bajers Gade 26, 1. th\n",
      "8700\n",
      "Horsens\n",
      "\n",
      "A Møller Pedersen\n",
      "75 89 54 29 \n",
      "Apotekerhaven 6, 2. mf\n",
      "8722\n",
      "Hedensted\n",
      "\n",
=======
>>>>>>> upstream/master
      "A Møller Sørensen\n",
      "35 38 97 81 \n",
      "Korsørgade 4, 6. tv\n",
      "2100\n",
      "København Ø\n",
      "\n",
      "A Porse Møller\n",
      "86 94 66 60 \n",
      "Røddikvej 60\n",
      "8464\n",
      "Galten\n",
      "\n",
<<<<<<< HEAD
      "A S Møller\n",
      "56 95 21 31 \n",
      "Store Torv 17, 2. 0006\n",
      "Rønne\n",
      "3700\n",
      "Rønne\n",
      "\n",
=======
>>>>>>> upstream/master
      "Aage Beck Møller\n",
      "74 84 11 35 \n",
      "Rødding Nørregade 8\n",
      "6630\n",
      "Rødding\n",
      "\n",
      "Aage Bojsen-Møller\n",
      "55 81 46 76 \n",
      "Noret 3\n",
      "4780\n",
      "Stege\n",
      "\n",
      "Aage Christian Møller Andersen\n",
<<<<<<< HEAD
      "64 66 01 21 \n",
      "Jordemodervej 7\n",
      "Bislev\n",
      "9240\n",
      "Nibe\n",
=======
      "Dele af indholdet er tilføjet af personen selv\n",
      "Aage Christian Møller Andersen\n",
      "64 66 01 21 \n",
>>>>>>> upstream/master
      "\n",
      "Aage Hansen Møller\n",
      "62 24 10 81 \n",
      "Filippavej 38\n",
      "Hundstrup\n",
      "5762\n",
      "Vester Skerninge\n",
      "\n",
      "Aage Jan Møller\n",
      "20 83 88 62 \n",
      "Næsborgvej 50, st. th\n",
      "2650\n",
      "Hvidovre\n",
      "\n",
      "Aage Karl Møller\n",
<<<<<<< HEAD
      "22 48 97 59 \n",
=======
      "51 15 15 66 \n",
>>>>>>> upstream/master
      "Dyrevænget 21\n",
      "Tibirke Sand\n",
      "3300\n",
      "Frederiksværk\n",
      "\n",
      "Aage Leon Hanefeld Møller\n",
      "22 13 31 84 \n",
      "Gammel Køge Landevej 180, 2. h\n",
      "2500\n",
<<<<<<< HEAD
      "Valby\n"
=======
      "Valby\n",
      "\n",
      "Aage Majbom Møller\n",
      "28 59 06 93 \n",
      "Pilelunden 23\n",
      "5550\n",
      "Langeskov\n",
      "\n",
      "Aage Martin Møller\n",
      "21 48 73 79 \n",
      "Almind Østergade 15A, 1. tv\n",
      "6051\n",
      "Almind\n",
      "\n",
      "Aage Møller\n",
      "86 38 12 07 \n",
      "Knudsvej 1\n",
      "8586\n",
      "Ørum Djurs\n",
      "\n",
      "Aage Møller\n",
      "97 72 02 71 \n",
      "Fruevej 4\n",
      "7900\n",
      "Nykøbing M\n"
>>>>>>> upstream/master
     ]
    }
   ],
   "source": [
    "import re\n",
    "\n",
    "\n",
    "with open('./addresses.txt') as f:\n",
    "    addresses = f.read()\n",
    "\n",
    "print(addresses)\n"
   ]
  },
  {
   "cell_type": "markdown",
   "metadata": {},
   "source": [
<<<<<<< HEAD
    "We will play with the text above and the following regex patterns in the Atom editor (or any other editor with regexp support)\n",
    "\n",
    "```\n",
    ".*Møller\n",
    "\\d+ \\d+ \\d+ \\d+\n",
    "\\d{2} \\d{2} \\d{2} \\d{2}\n",
    "\n",
    "# Find a potential city name\n",
    "[A-Z][a-z]*( [A-Z]{1,2})?\n",
    "\n",
    "# Address incomplete:\n",
    "^[A-Za-zæøå]+( [A-Za-zæøå]+)* \\d+(, )?\n",
    "```"
=======
    "We will play with the text above and the following regex patterns in the Visual Studio Code editor (or any other editor with regexp support)\n",
    "\n",
    "Write a regular expression that:\n",
    "\n",
    "  * finds all names in the list above\n",
    "  * finds all telephone numbers \n",
    "  * finds all zip codes\n",
    "  * finds all city names with corresponding zip code\n",
    "  * finds all street names"
>>>>>>> upstream/master
   ]
  },
  {
   "cell_type": "markdown",
   "metadata": {},
   "source": [
    "# Selenium\n",
    "\n",
    "\n",
    "Where do the strings above with the names and the telephone numbers actually come from? They are scraped from the web via a small Selenium script, see [selenium_krak.py](files/selenium_krak.py). \n",
    "\n",
    "A similar program, that would allow us to receive all URLs from www.kulturnaut.dk by clicking on the *\"Next page...\"* links, is here: [selenium_clicker.py](files/selenium_clicker.py). \n",
    "\n",
    "\n",
    "\n",
    "## What is Selenium?\n",
    "\n",
    "> Selenium automates browsers. That's it! What you do with that power is entirely up to you. Primarily, it is for automating web applications for testing purposes, but is certainly not limited to just that. Boring web-based administration tasks can (and should!) also be automated as well.\n",
    "http://docs.seleniumhq.org\n",
    "\n",
    "\n",
    "\n",
    "\n",
    "## Install Selenium\n",
    "\n",
    "```bash\n",
    "$ conda install selenium\n",
    "```\n",
    "\n",
    "## Automatically Finding Telephone Numbers\n",
    "\n",
    "If you run the following script from the command line in your VM, you will observe, that it opens a Firefox window, enters a search string (*\"Møller\"*), clicks the links *\"Personer\"* to search for persons only, and finally it prints the HTML sources of the page.\n",
    "\n",
    "\n",
    "```python\n",
<<<<<<< HEAD
=======
    "import bs4\n",
>>>>>>> upstream/master
    "from time import sleep\n",
    "from selenium import webdriver\n",
    "from selenium.webdriver.common.keys import Keys\n",
    "\n",
    "\n",
<<<<<<< HEAD
    "base_url = 'http://www.krak.dk'\n",
    "browser = webdriver.Firefox()\n",
    "browser.get(base_url)\n",
    "browser.implicitly_wait(3)\n",
    "\n",
    "search_field = browser.find_element_by_id('e-what-all')\n",
    "search_field.send_keys('Møller')\n",
    "search_field.submit()\n",
    "\n",
    "sleep(3)\n",
    "# browser.implicitly_wait(3)\n",
    "\n",
    "link_to_persons = browser.find_elements_by_link_text('Personer')\n",
    "link_to_persons[0].click()\n",
    "\n",
    "sleep(3)\n",
    "\n",
    "page_source = browser.page_source\n",
    "print(page_source)\n",
=======
    "def get_info(name):\n",
    "    base_url = 'http://www.krak.dk'\n",
    "    browser = webdriver.Firefox()\n",
    "    browser.get(base_url)\n",
    "    browser.implicitly_wait(3)\n",
    "\n",
    "    okay_button = browser.find_element_by_xpath('/html/body/div/div/div/div[2]/button')\n",
    "    okay_button.click()\n",
    "\n",
    "    sleep(3)\n",
    "    # browser.implicitly_wait(3)\n",
    "    search_field = browser.find_element_by_name('searchQuery')\n",
    "    search_field.send_keys(name)\n",
    "    search_field.submit()\n",
    "\n",
    "    sleep(3)\n",
    "\n",
    "    link_to_persons = browser.find_element_by_partial_link_text('Personer')\n",
    "    link_to_persons.click()\n",
    "\n",
    "    sleep(3)\n",
    "\n",
    "    person_cells = browser.find_elements_by_class_name('PersonResultListItem')\n",
    "    entries_str = []\n",
    "    for p in person_cells:\n",
    "        try:\n",
    "            contents = p.find_elements_by_xpath('div')[0].find_element_by_xpath('div').text\n",
    "            # expand the telnummer by clicking on the tooltip\n",
    "            p.find_elements_by_xpath('div')[0].find_element_by_xpath('span/span/div').click()\n",
    "            sleep(1)\n",
    "            telnummer = p.find_elements_by_xpath('div')[0].find_element_by_xpath('span/span/div').text.splitlines()[0]\n",
    "\n",
    "            entry_str = '\\n'.join((contents, telnummer))\n",
    "            entries_str.append(entry_str)\n",
    "        except Exception as e:\n",
    "            print(e)\n",
    "\n",
    "    return entries_str\n",
    "\n",
    "\n",
    "def save_to_file(content, out_path='./addresses.txt'):\n",
    "    with open(out_path, 'w') as f:\n",
    "        f.write(content)\n",
    "\n",
    "\n",
    "if __name__ == '__main__':\n",
    "    entries = get_info('Møller')\n",
    "    save_to_file('\\n\\n'.join(entries))\n",
    "\n",
>>>>>>> upstream/master
    "```\n",
    "\n"
   ]
  },
  {
   "cell_type": "markdown",
   "metadata": {},
   "source": [
    "## Controlling the Browser with the `selenium` Module\n",
    "\n",
    "The `selenium` module lets Python directly control the browser by programatically clicking links and filling in login information, almost as though there is a human user interacting with the page. Selenium allows you to interact with web pages in a much more advanced way than Requests and Beautiful Soup; but because it launches a web browser, it is a bit slower and hard to run in the background if, say, you just need to download some files from the Web.\n",
    "\n",
    "### Starting a Selenium-Controlled Browser\n",
    "\n",
    "```python\n",
    "from selenium import webdriver\n",
    "\n",
    "\n",
    "browser = webdriver.Firefox()\n",
    "browser.get('http://www.krak.dk')\n",
    "```\n",
    "\n",
    "\n",
    "### Finding Elements on the Page\n",
    "\n",
    "WebDriver objects have quite a few methods for finding elements on a page. They are divided into the `find_element_*` and `find_elements_*` methods. The `find_element_*` methods return a single `WebElement` object, representing the first element on the page that matches your query. The `find_elements_*` methods return a list of `WebElement_*` objects for every matching element on the page. For example, in the following are some common methods given, which find multiple elements on the page:\n",
    "\n",
    "\n",
    "  * `browser.find_elements_by_class_name(name)` ... finds elements that use the CSS class\n",
    "name\n",
    "  * `browser.find_elements_by_css_selector(selector)` ... finds elements that match the CSS\n",
    "selector\n",
    "  * `browser.find_elements_by_id(id)` ... finds elements with a matching id attribute value\n",
    "  * `browser.find_elements_by_link_text(text)` ... finds `<a>` elements that completely\n",
    "match the text provided\n",
    "  * `browser.find_elements_by_partial_link_text(text)` ... finds `<a>` elements that contain the text\n",
    "provided\n",
    "  * `browser.find_elements_by_name(name)` ... finds elements with a matching name attribute value\n",
    "  * `browser.find_elements_by_tag_name(name)` ... finds elements with a matching tag name (case insensitive; an `<a>` element is matched by 'a' and 'A')\n",
    "  \n",
    "For more information on finding elements on a page, see http://selenium-python.readthedocs.io/locating-elements.html#\n",
    "  \n",
    "### Clicking the Page\n",
    "\n",
    "`WebElement` objects returned from the `find_element_*` and `find_elements_*` methods have a `click()` method that simulates a mouse click on that element. This method can be used to follow a link, make a selection on a radio button, click a Submit button, or trigger whatever else might happen when the element is clicked by the mouse.\n",
    "\n",
    "```python\n",
    "    base_url = 'http://www.krak.dk'\n",
    "    browser = webdriver.Firefox()\n",
    "    browser.get(base_url)\n",
    "    browser.implicitly_wait(3)\n",
    "\n",
    "    link_to_persons = browser.find_elements_by_link_text('Personer')\n",
    "    link_to_persons[0].click()\n",
    "```\n",
    "\n",
    "\n",
    "### Filling Out and Submitting Forms\n",
    "Sending keystrokes to text fields on a web page is a matter of finding the `<input>` or `<textarea>` element for that text field and then calling the `send_keys()` method. \n",
    "\n",
    "\n",
    "```python\n",
    "    base_url = 'http://www.krak.dk'\n",
    "    browser = webdriver.Firefox()\n",
    "    browser.get(base_url)\n",
    "    browser.implicitly_wait(3)\n",
    "\n",
<<<<<<< HEAD
    "    search_field = browser.find_element_by_id('e-what-all')\n",
    "    search_field.send_keys(name)\n",
=======
    "    search_field = browser.find_element_by_name('searchQuery')\n",
    "    search_field.send_keys('Møller')\n",
>>>>>>> upstream/master
    "    search_field.submit()\n",
    "```"
   ]
  },
  {
   "cell_type": "code",
   "execution_count": null,
   "metadata": {},
   "outputs": [],
   "source": [
<<<<<<< HEAD
    "%bash\n",
    "python selenium_krak.py"
   ]
  },
  {
   "cell_type": "code",
   "execution_count": null,
   "metadata": {
    "collapsed": true
   },
   "outputs": [],
   "source": [
    "%bash\n",
    "python selenium_clicker.py"
   ]
=======
    "%%bash\n",
    "python selenium_krak.py"
   ]
>>>>>>> upstream/master
  }
 ],
 "metadata": {
  "kernelspec": {
   "display_name": "Python 3",
   "language": "python",
   "name": "python3"
  },
  "language_info": {
   "codemirror_mode": {
    "name": "ipython",
    "version": 3
   },
   "file_extension": ".py",
   "mimetype": "text/x-python",
   "name": "python",
   "nbconvert_exporter": "python",
   "pygments_lexer": "ipython3",
   "version": "3.6.4"
  }
 },
 "nbformat": 4,
 "nbformat_minor": 2
}
